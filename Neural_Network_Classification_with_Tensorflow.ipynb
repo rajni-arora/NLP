{
  "nbformat": 4,
  "nbformat_minor": 0,
  "metadata": {
    "colab": {
      "name": "Neural Network Classification with Tensorflow.ipynb",
      "provenance": [],
      "authorship_tag": "ABX9TyPpKYgq2C9g0wTRkx89fkTp",
      "include_colab_link": true
    },
    "kernelspec": {
      "name": "python3",
      "display_name": "Python 3"
    },
    "language_info": {
      "name": "python"
    }
  },
  "cells": [
    {
      "cell_type": "markdown",
      "metadata": {
        "id": "view-in-github",
        "colab_type": "text"
      },
      "source": [
        "<a href=\"https://colab.research.google.com/github/rajni-arora/NLP/blob/main/Neural_Network_Classification_with_Tensorflow.ipynb\" target=\"_parent\"><img src=\"https://colab.research.google.com/assets/colab-badge.svg\" alt=\"Open In Colab\"/></a>"
      ]
    },
    {
      "cell_type": "markdown",
      "source": [
        "# **Classification**\n",
        "\n",
        "A few types of classification:\n",
        "\n",
        "*Binary Classification\n",
        "\n",
        "*Multilabel Classification\n",
        "\n",
        "*Multiclass Classification\n"
      ],
      "metadata": {
        "id": "fOJBrNVgLJtp"
      }
    },
    {
      "cell_type": "markdown",
      "source": [
        "# **Steps in modelling**\n",
        "\n",
        "1. Create or immport the model\n",
        "2. Compile the model\n",
        "3. Fit the model\n",
        "4. Evaluate the model\n",
        "5. Tweak\n",
        "6. Evaluate\n",
        "\n"
      ],
      "metadata": {
        "id": "v3hdxXKWb4pq"
      }
    },
    {
      "cell_type": "markdown",
      "source": [
        "# **Creating data to View and Fit**"
      ],
      "metadata": {
        "id": "sMIIfpHkmGnA"
      }
    },
    {
      "cell_type": "code",
      "source": [
        "from sklearn.datasets import make_circles\n",
        "# make 1000 examples\n",
        "n_samples = 1000\n",
        "\n",
        "#Create circles\n",
        "X, y  = make_circles(n_samples,\n",
        "                     noise = 0.03,\n",
        "                     random_state=42)"
      ],
      "metadata": {
        "id": "GyhlASHBmEoX"
      },
      "execution_count": null,
      "outputs": []
    },
    {
      "cell_type": "code",
      "source": [
        "#Check out the features\n",
        "X[:10]"
      ],
      "metadata": {
        "colab": {
          "base_uri": "https://localhost:8080/"
        },
        "id": "S6LFd_ggm6De",
        "outputId": "acb0eca6-7344-4f0e-9cac-d26546845a6c"
      },
      "execution_count": null,
      "outputs": [
        {
          "output_type": "execute_result",
          "data": {
            "text/plain": [
              "array([[ 0.75424625,  0.23148074],\n",
              "       [-0.75615888,  0.15325888],\n",
              "       [-0.81539193,  0.17328203],\n",
              "       [-0.39373073,  0.69288277],\n",
              "       [ 0.44220765, -0.89672343],\n",
              "       [-0.47964637,  0.67643477],\n",
              "       [-0.01364836,  0.80334872],\n",
              "       [ 0.77151327,  0.14775959],\n",
              "       [-0.16932234, -0.79345575],\n",
              "       [-0.1214858 ,  1.02150905]])"
            ]
          },
          "metadata": {},
          "execution_count": 3
        }
      ]
    },
    {
      "cell_type": "code",
      "source": [
        "\n",
        "# Check the labels\n",
        "y[:10]\n"
      ],
      "metadata": {
        "colab": {
          "base_uri": "https://localhost:8080/"
        },
        "id": "ZYlRi7EPm5_g",
        "outputId": "86804337-ea6c-400a-84eb-60aa373280be"
      },
      "execution_count": null,
      "outputs": [
        {
          "output_type": "execute_result",
          "data": {
            "text/plain": [
              "array([1, 1, 1, 1, 0, 1, 1, 1, 1, 0])"
            ]
          },
          "metadata": {},
          "execution_count": 4
        }
      ]
    },
    {
      "cell_type": "code",
      "source": [
        "##Visualize \n",
        "#Creating a Dataframe\n",
        "\n",
        "import pandas as pd\n",
        "circles = pd.DataFrame({\"X0\" : X[:, 0], \"X1\" : X[:, 1], \"label\" : y})\n",
        "circles"
      ],
      "metadata": {
        "colab": {
          "base_uri": "https://localhost:8080/",
          "height": 424
        },
        "id": "Q5-0R7hZm5ox",
        "outputId": "38044d1d-a513-41b7-bdc1-a8967a78b5ef"
      },
      "execution_count": null,
      "outputs": [
        {
          "output_type": "execute_result",
          "data": {
            "text/html": [
              "\n",
              "  <div id=\"df-1bb9b469-7695-425d-973d-8b06e69b9aa7\">\n",
              "    <div class=\"colab-df-container\">\n",
              "      <div>\n",
              "<style scoped>\n",
              "    .dataframe tbody tr th:only-of-type {\n",
              "        vertical-align: middle;\n",
              "    }\n",
              "\n",
              "    .dataframe tbody tr th {\n",
              "        vertical-align: top;\n",
              "    }\n",
              "\n",
              "    .dataframe thead th {\n",
              "        text-align: right;\n",
              "    }\n",
              "</style>\n",
              "<table border=\"1\" class=\"dataframe\">\n",
              "  <thead>\n",
              "    <tr style=\"text-align: right;\">\n",
              "      <th></th>\n",
              "      <th>X0</th>\n",
              "      <th>X1</th>\n",
              "      <th>label</th>\n",
              "    </tr>\n",
              "  </thead>\n",
              "  <tbody>\n",
              "    <tr>\n",
              "      <th>0</th>\n",
              "      <td>0.754246</td>\n",
              "      <td>0.231481</td>\n",
              "      <td>1</td>\n",
              "    </tr>\n",
              "    <tr>\n",
              "      <th>1</th>\n",
              "      <td>-0.756159</td>\n",
              "      <td>0.153259</td>\n",
              "      <td>1</td>\n",
              "    </tr>\n",
              "    <tr>\n",
              "      <th>2</th>\n",
              "      <td>-0.815392</td>\n",
              "      <td>0.173282</td>\n",
              "      <td>1</td>\n",
              "    </tr>\n",
              "    <tr>\n",
              "      <th>3</th>\n",
              "      <td>-0.393731</td>\n",
              "      <td>0.692883</td>\n",
              "      <td>1</td>\n",
              "    </tr>\n",
              "    <tr>\n",
              "      <th>4</th>\n",
              "      <td>0.442208</td>\n",
              "      <td>-0.896723</td>\n",
              "      <td>0</td>\n",
              "    </tr>\n",
              "    <tr>\n",
              "      <th>...</th>\n",
              "      <td>...</td>\n",
              "      <td>...</td>\n",
              "      <td>...</td>\n",
              "    </tr>\n",
              "    <tr>\n",
              "      <th>995</th>\n",
              "      <td>0.244054</td>\n",
              "      <td>0.944125</td>\n",
              "      <td>0</td>\n",
              "    </tr>\n",
              "    <tr>\n",
              "      <th>996</th>\n",
              "      <td>-0.978655</td>\n",
              "      <td>-0.272373</td>\n",
              "      <td>0</td>\n",
              "    </tr>\n",
              "    <tr>\n",
              "      <th>997</th>\n",
              "      <td>-0.136900</td>\n",
              "      <td>-0.810012</td>\n",
              "      <td>1</td>\n",
              "    </tr>\n",
              "    <tr>\n",
              "      <th>998</th>\n",
              "      <td>0.670362</td>\n",
              "      <td>-0.767502</td>\n",
              "      <td>0</td>\n",
              "    </tr>\n",
              "    <tr>\n",
              "      <th>999</th>\n",
              "      <td>0.281057</td>\n",
              "      <td>0.963824</td>\n",
              "      <td>0</td>\n",
              "    </tr>\n",
              "  </tbody>\n",
              "</table>\n",
              "<p>1000 rows × 3 columns</p>\n",
              "</div>\n",
              "      <button class=\"colab-df-convert\" onclick=\"convertToInteractive('df-1bb9b469-7695-425d-973d-8b06e69b9aa7')\"\n",
              "              title=\"Convert this dataframe to an interactive table.\"\n",
              "              style=\"display:none;\">\n",
              "        \n",
              "  <svg xmlns=\"http://www.w3.org/2000/svg\" height=\"24px\"viewBox=\"0 0 24 24\"\n",
              "       width=\"24px\">\n",
              "    <path d=\"M0 0h24v24H0V0z\" fill=\"none\"/>\n",
              "    <path d=\"M18.56 5.44l.94 2.06.94-2.06 2.06-.94-2.06-.94-.94-2.06-.94 2.06-2.06.94zm-11 1L8.5 8.5l.94-2.06 2.06-.94-2.06-.94L8.5 2.5l-.94 2.06-2.06.94zm10 10l.94 2.06.94-2.06 2.06-.94-2.06-.94-.94-2.06-.94 2.06-2.06.94z\"/><path d=\"M17.41 7.96l-1.37-1.37c-.4-.4-.92-.59-1.43-.59-.52 0-1.04.2-1.43.59L10.3 9.45l-7.72 7.72c-.78.78-.78 2.05 0 2.83L4 21.41c.39.39.9.59 1.41.59.51 0 1.02-.2 1.41-.59l7.78-7.78 2.81-2.81c.8-.78.8-2.07 0-2.86zM5.41 20L4 18.59l7.72-7.72 1.47 1.35L5.41 20z\"/>\n",
              "  </svg>\n",
              "      </button>\n",
              "      \n",
              "  <style>\n",
              "    .colab-df-container {\n",
              "      display:flex;\n",
              "      flex-wrap:wrap;\n",
              "      gap: 12px;\n",
              "    }\n",
              "\n",
              "    .colab-df-convert {\n",
              "      background-color: #E8F0FE;\n",
              "      border: none;\n",
              "      border-radius: 50%;\n",
              "      cursor: pointer;\n",
              "      display: none;\n",
              "      fill: #1967D2;\n",
              "      height: 32px;\n",
              "      padding: 0 0 0 0;\n",
              "      width: 32px;\n",
              "    }\n",
              "\n",
              "    .colab-df-convert:hover {\n",
              "      background-color: #E2EBFA;\n",
              "      box-shadow: 0px 1px 2px rgba(60, 64, 67, 0.3), 0px 1px 3px 1px rgba(60, 64, 67, 0.15);\n",
              "      fill: #174EA6;\n",
              "    }\n",
              "\n",
              "    [theme=dark] .colab-df-convert {\n",
              "      background-color: #3B4455;\n",
              "      fill: #D2E3FC;\n",
              "    }\n",
              "\n",
              "    [theme=dark] .colab-df-convert:hover {\n",
              "      background-color: #434B5C;\n",
              "      box-shadow: 0px 1px 3px 1px rgba(0, 0, 0, 0.15);\n",
              "      filter: drop-shadow(0px 1px 2px rgba(0, 0, 0, 0.3));\n",
              "      fill: #FFFFFF;\n",
              "    }\n",
              "  </style>\n",
              "\n",
              "      <script>\n",
              "        const buttonEl =\n",
              "          document.querySelector('#df-1bb9b469-7695-425d-973d-8b06e69b9aa7 button.colab-df-convert');\n",
              "        buttonEl.style.display =\n",
              "          google.colab.kernel.accessAllowed ? 'block' : 'none';\n",
              "\n",
              "        async function convertToInteractive(key) {\n",
              "          const element = document.querySelector('#df-1bb9b469-7695-425d-973d-8b06e69b9aa7');\n",
              "          const dataTable =\n",
              "            await google.colab.kernel.invokeFunction('convertToInteractive',\n",
              "                                                     [key], {});\n",
              "          if (!dataTable) return;\n",
              "\n",
              "          const docLinkHtml = 'Like what you see? Visit the ' +\n",
              "            '<a target=\"_blank\" href=https://colab.research.google.com/notebooks/data_table.ipynb>data table notebook</a>'\n",
              "            + ' to learn more about interactive tables.';\n",
              "          element.innerHTML = '';\n",
              "          dataTable['output_type'] = 'display_data';\n",
              "          await google.colab.output.renderOutput(dataTable, element);\n",
              "          const docLink = document.createElement('div');\n",
              "          docLink.innerHTML = docLinkHtml;\n",
              "          element.appendChild(docLink);\n",
              "        }\n",
              "      </script>\n",
              "    </div>\n",
              "  </div>\n",
              "  "
            ],
            "text/plain": [
              "           X0        X1  label\n",
              "0    0.754246  0.231481      1\n",
              "1   -0.756159  0.153259      1\n",
              "2   -0.815392  0.173282      1\n",
              "3   -0.393731  0.692883      1\n",
              "4    0.442208 -0.896723      0\n",
              "..        ...       ...    ...\n",
              "995  0.244054  0.944125      0\n",
              "996 -0.978655 -0.272373      0\n",
              "997 -0.136900 -0.810012      1\n",
              "998  0.670362 -0.767502      0\n",
              "999  0.281057  0.963824      0\n",
              "\n",
              "[1000 rows x 3 columns]"
            ]
          },
          "metadata": {},
          "execution_count": 5
        }
      ]
    },
    {
      "cell_type": "code",
      "source": [
        "#Visualize with the Plot\n",
        "\n",
        "import matplotlib.pyplot as plt\n",
        "\n",
        "plt.scatter(X[:, 0],  X[:, 1], c=y, cmap = plt.cm.RdYlBu);"
      ],
      "metadata": {
        "colab": {
          "base_uri": "https://localhost:8080/",
          "height": 265
        },
        "id": "VJbl7SnBpZ-q",
        "outputId": "f0a8a3c8-b491-4646-8bea-c45e15d0ad6a"
      },
      "execution_count": null,
      "outputs": [
        {
          "output_type": "display_data",
          "data": {
            "image/png": "[encoded data removed]",
            "text/plain": [
              "<Figure size 432x288 with 1 Axes>"
            ]
          },
          "metadata": {
            "needs_background": "light"
          }
        }
      ]
    },
    {
      "cell_type": "code",
      "source": [
        "#Check the shape of our features and labels\n",
        "# Feature = X , label = y\n",
        "# (Row, Column)\n",
        "X.shape, y.shape"
      ],
      "metadata": {
        "colab": {
          "base_uri": "https://localhost:8080/"
        },
        "id": "7BY2f-WJpZ7f",
        "outputId": "e4e1133a-e8e4-46f0-c497-97ab3aaf9460"
      },
      "execution_count": null,
      "outputs": [
        {
          "output_type": "execute_result",
          "data": {
            "text/plain": [
              "((1000, 2), (1000,))"
            ]
          },
          "metadata": {},
          "execution_count": 7
        }
      ]
    },
    {
      "cell_type": "code",
      "source": [
        "#How many samples we are working\n",
        "len(X), len(y)"
      ],
      "metadata": {
        "colab": {
          "base_uri": "https://localhost:8080/"
        },
        "id": "ve6DWEhSvLgR",
        "outputId": "6d4aa45e-bedf-45ab-a151-672ce726e95e"
      },
      "execution_count": null,
      "outputs": [
        {
          "output_type": "execute_result",
          "data": {
            "text/plain": [
              "(1000, 1000)"
            ]
          },
          "metadata": {},
          "execution_count": 8
        }
      ]
    },
    {
      "cell_type": "code",
      "source": [
        "import tensorflow as tf"
      ],
      "metadata": {
        "id": "_Quz_cPJci3M"
      },
      "execution_count": null,
      "outputs": []
    },
    {
      "cell_type": "code",
      "source": [
        "#To always get the same random no\n",
        "#Set the random seed\n",
        "\n",
        "tf.random.set_seed(42)\n",
        "\n",
        "#  1. Create the model using Sequential API\n",
        "model_1 = tf.keras.Sequential([\n",
        "tf.keras.layers.Dense(1)\n",
        "\n",
        "])\n",
        "\n",
        "# 2. Compile the model\n",
        "model_1.compile(loss = tf.keras.losses.BinaryCrossentropy(),\n",
        "                optimizer = tf.keras.optimizers.SGD(),\n",
        "                metrics = [\"accuracy\"])\n",
        "\n",
        "#  3. Fit the model\n",
        "model_1.fit(X, y, epochs = 5)\n"
      ],
      "metadata": {
        "colab": {
          "base_uri": "https://localhost:8080/"
        },
        "id": "mNzMKgu6F4Ca",
        "outputId": "325ee396-22ed-44eb-a91f-7c5f31b1e500"
      },
      "execution_count": null,
      "outputs": [
        {
          "output_type": "stream",
          "name": "stdout",
          "text": [
            "Epoch 1/5\n",
            "32/32 [==============================] - 1s 5ms/step - loss: 2.8544 - accuracy: 0.4600\n",
            "Epoch 2/5\n",
            "32/32 [==============================] - 0s 5ms/step - loss: 0.7131 - accuracy: 0.5430\n",
            "Epoch 3/5\n",
            "32/32 [==============================] - 0s 3ms/step - loss: 0.6973 - accuracy: 0.5090\n",
            "Epoch 4/5\n",
            "32/32 [==============================] - 0s 2ms/step - loss: 0.6950 - accuracy: 0.5010\n",
            "Epoch 5/5\n",
            "32/32 [==============================] - 0s 2ms/step - loss: 0.6942 - accuracy: 0.4830\n"
          ]
        },
        {
          "output_type": "execute_result",
          "data": {
            "text/plain": [
              "<keras.callbacks.History at 0x7fd334ac8310>"
            ]
          },
          "metadata": {},
          "execution_count": 10
        }
      ]
    },
    {
      "cell_type": "markdown",
      "source": [
        "Accuracy is very low"
      ],
      "metadata": {
        "id": "OgLus-zvwaiB"
      }
    },
    {
      "cell_type": "code",
      "source": [
        "#Let's try and imporve our model by training for londer...\n",
        "model_1.fit(X, y, epochs = 200, verbose=0)"
      ],
      "metadata": {
        "colab": {
          "base_uri": "https://localhost:8080/"
        },
        "id": "xwGHDrnnde7o",
        "outputId": "016b9dcb-a0d8-4a02-875f-35a02ae5a084"
      },
      "execution_count": null,
      "outputs": [
        {
          "output_type": "execute_result",
          "data": {
            "text/plain": [
              "<keras.callbacks.History at 0x7fd33184f610>"
            ]
          },
          "metadata": {},
          "execution_count": 11
        }
      ]
    },
    {
      "cell_type": "code",
      "source": [
        "model_1.evaluate(X,y)"
      ],
      "metadata": {
        "colab": {
          "base_uri": "https://localhost:8080/"
        },
        "id": "e2fhGLNrx-JB",
        "outputId": "d2421885-1244-4841-85ef-5eca5ac0776a"
      },
      "execution_count": null,
      "outputs": [
        {
          "output_type": "stream",
          "name": "stdout",
          "text": [
            "32/32 [==============================] - 0s 1ms/step - loss: 0.6935 - accuracy: 0.5000\n"
          ]
        },
        {
          "output_type": "execute_result",
          "data": {
            "text/plain": [
              "[0.6934831142425537, 0.5]"
            ]
          },
          "metadata": {},
          "execution_count": 12
        }
      ]
    },
    {
      "cell_type": "markdown",
      "source": [
        "# Getting accuracy around 50% \n",
        "# So lets add an extra layer."
      ],
      "metadata": {
        "id": "paEmSDrv_fnw"
      }
    },
    {
      "cell_type": "code",
      "source": [
        "tf.random.set_seed(42)\n",
        "\n",
        "# Create the model using 2 layers \n",
        "model_2 = tf.keras.Sequential([\n",
        "                               \n",
        "tf.keras.layers.Dense(1),\n",
        "tf.keras.layers.Dense(1)\n",
        "\n",
        "])\n",
        "\n",
        "# Compile the model\n",
        "model_2.compile(loss = tf.keras.losses.BinaryCrossentropy(),\n",
        "                optimizer = tf.keras.optimizers.SGD(),\n",
        "                metrics = [\"accuracy\"])\n",
        "\n",
        "#Fit the model\n",
        "model_2.fit(X,y, epochs = 100, verbose = 0) "
      ],
      "metadata": {
        "colab": {
          "base_uri": "https://localhost:8080/"
        },
        "id": "kYxLCgEHyLtw",
        "outputId": "e9d5a2a1-9223-4d89-de95-ceef0b755f88"
      },
      "execution_count": null,
      "outputs": [
        {
          "output_type": "execute_result",
          "data": {
            "text/plain": [
              "<keras.callbacks.History at 0x7fd3320462d0>"
            ]
          },
          "metadata": {},
          "execution_count": 13
        }
      ]
    },
    {
      "cell_type": "code",
      "source": [
        "model_2.evaluate(X,y)"
      ],
      "metadata": {
        "colab": {
          "base_uri": "https://localhost:8080/"
        },
        "id": "kDWkd39IC3aR",
        "outputId": "40031559-6fae-432b-f979-a477d237d6f0"
      },
      "execution_count": null,
      "outputs": [
        {
          "output_type": "stream",
          "name": "stdout",
          "text": [
            "32/32 [==============================] - 0s 1ms/step - loss: 0.6933 - accuracy: 0.5000\n"
          ]
        },
        {
          "output_type": "execute_result",
          "data": {
            "text/plain": [
              "[0.6933314800262451, 0.5]"
            ]
          },
          "metadata": {},
          "execution_count": 14
        }
      ]
    },
    {
      "cell_type": "code",
      "source": [
        "circles[\"label\"].value_counts()"
      ],
      "metadata": {
        "colab": {
          "base_uri": "https://localhost:8080/"
        },
        "id": "HEYRHIcrEmFP",
        "outputId": "f29362ba-17f7-473f-895e-2782eee39316"
      },
      "execution_count": null,
      "outputs": [
        {
          "output_type": "execute_result",
          "data": {
            "text/plain": [
              "1    500\n",
              "0    500\n",
              "Name: label, dtype: int64"
            ]
          },
          "metadata": {},
          "execution_count": 15
        }
      ]
    },
    {
      "cell_type": "markdown",
      "source": [
        "# **Improving our model**"
      ],
      "metadata": {
        "id": "wInaCft-E_RG"
      }
    },
    {
      "cell_type": "markdown",
      "source": [
        "1. Create a model - Add more no of layers or increase the no of hidden units within a layer\n",
        "\n",
        "2. Compile a model - Choose a different optimizer function such as Adam instead of SGD()\n",
        "\n",
        "3. Fit a model - train longer or for more no of eochs\n"
      ],
      "metadata": {
        "id": "2wKISqYAGoUW"
      }
    },
    {
      "cell_type": "code",
      "source": [
        "tf.random.set_seed(42)\n",
        "\n",
        "# Create the model using 2 layers \n",
        "model_3 = tf.keras.Sequential([\n",
        "\n",
        "# Hidden layer of 100 units                         \n",
        "tf.keras.layers.Dense(100),\n",
        "\n",
        "# Hidden layer of 10 units  \n",
        "tf.keras.layers.Dense(10),\n",
        "\n",
        "tf.keras.layers.Dense(1)\n",
        "\n",
        "])\n",
        "\n",
        "# Compile the model\n",
        "model_3.compile(loss = tf.keras.losses.BinaryCrossentropy(),\n",
        "                optimizer = tf.keras.optimizers.Adam(),\n",
        "                metrics = [\"accuracy\"])\n",
        "\n",
        "#Fit the model\n",
        "model_3.fit(X,y, epochs = 100, verbose = 0) \n",
        "\n"
      ],
      "metadata": {
        "colab": {
          "base_uri": "https://localhost:8080/"
        },
        "id": "eEjL8RhBEroE",
        "outputId": "4e93c2ea-3b32-4a3d-976d-9b8385fd1c01"
      },
      "execution_count": null,
      "outputs": [
        {
          "output_type": "execute_result",
          "data": {
            "text/plain": [
              "<keras.callbacks.History at 0x7fd33416e310>"
            ]
          },
          "metadata": {},
          "execution_count": 16
        }
      ]
    },
    {
      "cell_type": "code",
      "source": [
        "model_3.evaluate(X,y)"
      ],
      "metadata": {
        "colab": {
          "base_uri": "https://localhost:8080/"
        },
        "id": "pKa_RMhbLeWx",
        "outputId": "38342e97-b97a-459c-8b8a-7036348a182a"
      },
      "execution_count": null,
      "outputs": [
        {
          "output_type": "stream",
          "name": "stdout",
          "text": [
            "32/32 [==============================] - 0s 1ms/step - loss: 0.6980 - accuracy: 0.5080\n"
          ]
        },
        {
          "output_type": "execute_result",
          "data": {
            "text/plain": [
              "[0.6980255246162415, 0.5080000162124634]"
            ]
          },
          "metadata": {},
          "execution_count": 17
        }
      ]
    },
    {
      "cell_type": "markdown",
      "source": [
        "Still Getting 50% Accuracy"
      ],
      "metadata": {
        "id": "kPDOmHkfLgUS"
      }
    },
    {
      "cell_type": "code",
      "source": [
        "model_3.summary()"
      ],
      "metadata": {
        "colab": {
          "base_uri": "https://localhost:8080/"
        },
        "id": "ZY6FlsrvK0tx",
        "outputId": "bf0bcb52-4bbc-4a5c-f24e-b20b68a3328c"
      },
      "execution_count": null,
      "outputs": [
        {
          "output_type": "stream",
          "name": "stdout",
          "text": [
            "Model: \"sequential_2\"\n",
            "_________________________________________________________________\n",
            " Layer (type)                Output Shape              Param #   \n",
            "=================================================================\n",
            " dense_3 (Dense)             (None, 100)               300       \n",
            "                                                                 \n",
            " dense_4 (Dense)             (None, 10)                1010      \n",
            "                                                                 \n",
            " dense_5 (Dense)             (None, 1)                 11        \n",
            "                                                                 \n",
            "=================================================================\n",
            "Total params: 1,321\n",
            "Trainable params: 1,321\n",
            "Non-trainable params: 0\n",
            "_________________________________________________________________\n"
          ]
        }
      ]
    },
    {
      "cell_type": "code",
      "source": [
        "model_3.predict(X)"
      ],
      "metadata": {
        "colab": {
          "base_uri": "https://localhost:8080/"
        },
        "id": "umjTwnaNKz6J",
        "outputId": "509d61b4-3103-498e-9ed5-50e9e2736f32"
      },
      "execution_count": null,
      "outputs": [
        {
          "output_type": "execute_result",
          "data": {
            "text/plain": [
              "array([[0.48793244],\n",
              "       [0.55887616],\n",
              "       [0.56292856],\n",
              "       [0.5705068 ],\n",
              "       [0.44141158],\n",
              "       [0.5738823 ],\n",
              "       [0.5576486 ],\n",
              "       [0.48246637],\n",
              "       [0.47755855],\n",
              "       [0.5750227 ],\n",
              "       [0.5148492 ],\n",
              "       [0.53087693],\n",
              "       [0.5643773 ],\n",
              "       [0.45787305],\n",
              "       [0.45052725],\n",
              "       [0.46129915],\n",
              "       [0.54055846],\n",
              "       [0.46380937],\n",
              "       [0.54798055],\n",
              "       [0.50375706],\n",
              "       [0.50630444],\n",
              "       [0.58775467],\n",
              "       [0.45902476],\n",
              "       [0.4912331 ],\n",
              "       [0.5832161 ],\n",
              "       [0.57042587],\n",
              "       [0.5523935 ],\n",
              "       [0.4631735 ],\n",
              "       [0.4577342 ],\n",
              "       [0.4544098 ],\n",
              "       [0.47872254],\n",
              "       [0.57856053],\n",
              "       [0.55546165],\n",
              "       [0.46339142],\n",
              "       [0.45849174],\n",
              "       [0.589867  ],\n",
              "       [0.57247376],\n",
              "       [0.529744  ],\n",
              "       [0.45870548],\n",
              "       [0.51092875],\n",
              "       [0.49994174],\n",
              "       [0.5463086 ],\n",
              "       [0.5109905 ],\n",
              "       [0.45797244],\n",
              "       [0.52232754],\n",
              "       [0.53888047],\n",
              "       [0.44872287],\n",
              "       [0.5443396 ],\n",
              "       [0.4354793 ],\n",
              "       [0.49381852],\n",
              "       [0.5227159 ],\n",
              "       [0.4646489 ],\n",
              "       [0.5530756 ],\n",
              "       [0.52247477],\n",
              "       [0.483074  ],\n",
              "       [0.48762774],\n",
              "       [0.55282235],\n",
              "       [0.4715016 ],\n",
              "       [0.5812109 ],\n",
              "       [0.50469506],\n",
              "       [0.5187714 ],\n",
              "       [0.50205857],\n",
              "       [0.5015654 ],\n",
              "       [0.58532816],\n",
              "       [0.5440112 ],\n",
              "       [0.57291   ],\n",
              "       [0.5665481 ],\n",
              "       [0.47396824],\n",
              "       [0.5214058 ],\n",
              "       [0.5014205 ],\n",
              "       [0.55506355],\n",
              "       [0.45795158],\n",
              "       [0.53314   ],\n",
              "       [0.5574871 ],\n",
              "       [0.52533907],\n",
              "       [0.5309001 ],\n",
              "       [0.56341714],\n",
              "       [0.4941491 ],\n",
              "       [0.5403438 ],\n",
              "       [0.5147371 ],\n",
              "       [0.56719136],\n",
              "       [0.5162399 ],\n",
              "       [0.5377099 ],\n",
              "       [0.52235174],\n",
              "       [0.50248665],\n",
              "       [0.50764084],\n",
              "       [0.46971345],\n",
              "       [0.5680983 ],\n",
              "       [0.55303395],\n",
              "       [0.49907547],\n",
              "       [0.45178324],\n",
              "       [0.44190112],\n",
              "       [0.48661467],\n",
              "       [0.5824919 ],\n",
              "       [0.53023183],\n",
              "       [0.4341056 ],\n",
              "       [0.54515874],\n",
              "       [0.54271156],\n",
              "       [0.5178724 ],\n",
              "       [0.49640214],\n",
              "       [0.56353134],\n",
              "       [0.4714284 ],\n",
              "       [0.45357978],\n",
              "       [0.55489194],\n",
              "       [0.56035334],\n",
              "       [0.56911594],\n",
              "       [0.51029974],\n",
              "       [0.4555856 ],\n",
              "       [0.58254814],\n",
              "       [0.45634753],\n",
              "       [0.49066037],\n",
              "       [0.50521857],\n",
              "       [0.46990067],\n",
              "       [0.50882936],\n",
              "       [0.53646773],\n",
              "       [0.43836978],\n",
              "       [0.586822  ],\n",
              "       [0.46414182],\n",
              "       [0.49692413],\n",
              "       [0.5252755 ],\n",
              "       [0.46029443],\n",
              "       [0.43716383],\n",
              "       [0.57029045],\n",
              "       [0.5582319 ],\n",
              "       [0.5745439 ],\n",
              "       [0.51371473],\n",
              "       [0.5269222 ],\n",
              "       [0.44201532],\n",
              "       [0.47215536],\n",
              "       [0.5221316 ],\n",
              "       [0.54067624],\n",
              "       [0.4809265 ],\n",
              "       [0.5480633 ],\n",
              "       [0.46937695],\n",
              "       [0.49083295],\n",
              "       [0.5120684 ],\n",
              "       [0.56367093],\n",
              "       [0.5810441 ],\n",
              "       [0.48329034],\n",
              "       [0.52797556],\n",
              "       [0.49815473],\n",
              "       [0.56008303],\n",
              "       [0.5666287 ],\n",
              "       [0.5404358 ],\n",
              "       [0.46073082],\n",
              "       [0.4533254 ],\n",
              "       [0.5121634 ],\n",
              "       [0.5652165 ],\n",
              "       [0.5033346 ],\n",
              "       [0.50008386],\n",
              "       [0.5644944 ],\n",
              "       [0.58122116],\n",
              "       [0.46355522],\n",
              "       [0.44018224],\n",
              "       [0.45463428],\n",
              "       [0.44468868],\n",
              "       [0.5129018 ],\n",
              "       [0.5684135 ],\n",
              "       [0.5153595 ],\n",
              "       [0.46175715],\n",
              "       [0.54278827],\n",
              "       [0.54115677],\n",
              "       [0.56279004],\n",
              "       [0.57015985],\n",
              "       [0.47425085],\n",
              "       [0.57031876],\n",
              "       [0.5231678 ],\n",
              "       [0.5726742 ],\n",
              "       [0.5087248 ],\n",
              "       [0.5131944 ],\n",
              "       [0.46650687],\n",
              "       [0.452177  ],\n",
              "       [0.55751324],\n",
              "       [0.46757746],\n",
              "       [0.4504148 ],\n",
              "       [0.46598044],\n",
              "       [0.55641145],\n",
              "       [0.55418396],\n",
              "       [0.5166021 ],\n",
              "       [0.57122195],\n",
              "       [0.45476636],\n",
              "       [0.57170045],\n",
              "       [0.45613644],\n",
              "       [0.48998255],\n",
              "       [0.49082306],\n",
              "       [0.5755754 ],\n",
              "       [0.47046173],\n",
              "       [0.4612751 ],\n",
              "       [0.4544208 ],\n",
              "       [0.5550502 ],\n",
              "       [0.45591846],\n",
              "       [0.4983502 ],\n",
              "       [0.56910944],\n",
              "       [0.5840393 ],\n",
              "       [0.5831875 ],\n",
              "       [0.44692492],\n",
              "       [0.4895443 ],\n",
              "       [0.58347774],\n",
              "       [0.5498082 ],\n",
              "       [0.52873796],\n",
              "       [0.48503062],\n",
              "       [0.49466774],\n",
              "       [0.5716709 ],\n",
              "       [0.51192486],\n",
              "       [0.4946484 ],\n",
              "       [0.53863335],\n",
              "       [0.5864412 ],\n",
              "       [0.45271984],\n",
              "       [0.46110705],\n",
              "       [0.5024095 ],\n",
              "       [0.52208364],\n",
              "       [0.57922006],\n",
              "       [0.45411396],\n",
              "       [0.49826103],\n",
              "       [0.56385213],\n",
              "       [0.48878673],\n",
              "       [0.5705982 ],\n",
              "       [0.56237394],\n",
              "       [0.45640334],\n",
              "       [0.56574315],\n",
              "       [0.51824903],\n",
              "       [0.5619873 ],\n",
              "       [0.4615293 ],\n",
              "       [0.50293833],\n",
              "       [0.45784494],\n",
              "       [0.46390358],\n",
              "       [0.50197357],\n",
              "       [0.47411808],\n",
              "       [0.45533094],\n",
              "       [0.49670237],\n",
              "       [0.48346567],\n",
              "       [0.47111344],\n",
              "       [0.45382726],\n",
              "       [0.527955  ],\n",
              "       [0.49023238],\n",
              "       [0.48824835],\n",
              "       [0.5751292 ],\n",
              "       [0.4528249 ],\n",
              "       [0.58921343],\n",
              "       [0.49295333],\n",
              "       [0.46616346],\n",
              "       [0.5827441 ],\n",
              "       [0.48128334],\n",
              "       [0.5211881 ],\n",
              "       [0.5207991 ],\n",
              "       [0.5598261 ],\n",
              "       [0.44012457],\n",
              "       [0.5289177 ],\n",
              "       [0.53323257],\n",
              "       [0.53275865],\n",
              "       [0.5325884 ],\n",
              "       [0.46724117],\n",
              "       [0.52960515],\n",
              "       [0.46257344],\n",
              "       [0.4495705 ],\n",
              "       [0.50163406],\n",
              "       [0.48375484],\n",
              "       [0.45157602],\n",
              "       [0.45120004],\n",
              "       [0.46838307],\n",
              "       [0.56545764],\n",
              "       [0.4466961 ],\n",
              "       [0.5439796 ],\n",
              "       [0.5527148 ],\n",
              "       [0.4710863 ],\n",
              "       [0.4704716 ],\n",
              "       [0.5222314 ],\n",
              "       [0.45582077],\n",
              "       [0.5592408 ],\n",
              "       [0.45295691],\n",
              "       [0.45494014],\n",
              "       [0.56422174],\n",
              "       [0.4594964 ],\n",
              "       [0.56313145],\n",
              "       [0.48910725],\n",
              "       [0.47746998],\n",
              "       [0.5880551 ],\n",
              "       [0.54670054],\n",
              "       [0.53193873],\n",
              "       [0.5296442 ],\n",
              "       [0.53121305],\n",
              "       [0.52472144],\n",
              "       [0.56876636],\n",
              "       [0.53071   ],\n",
              "       [0.58306974],\n",
              "       [0.56969535],\n",
              "       [0.47313848],\n",
              "       [0.4415905 ],\n",
              "       [0.57428735],\n",
              "       [0.45652094],\n",
              "       [0.45386612],\n",
              "       [0.5230834 ],\n",
              "       [0.47285065],\n",
              "       [0.4438894 ],\n",
              "       [0.4642362 ],\n",
              "       [0.44352007],\n",
              "       [0.45260575],\n",
              "       [0.44262144],\n",
              "       [0.46979997],\n",
              "       [0.58320427],\n",
              "       [0.49836853],\n",
              "       [0.43970105],\n",
              "       [0.45412007],\n",
              "       [0.44110712],\n",
              "       [0.5356652 ],\n",
              "       [0.45371193],\n",
              "       [0.48427853],\n",
              "       [0.5233986 ],\n",
              "       [0.4533332 ],\n",
              "       [0.5200838 ],\n",
              "       [0.53954595],\n",
              "       [0.4904005 ],\n",
              "       [0.5289723 ],\n",
              "       [0.5671213 ],\n",
              "       [0.4432863 ],\n",
              "       [0.439771  ],\n",
              "       [0.5739998 ],\n",
              "       [0.4741795 ],\n",
              "       [0.5654863 ],\n",
              "       [0.57990974],\n",
              "       [0.5298414 ],\n",
              "       [0.5774921 ],\n",
              "       [0.5198557 ],\n",
              "       [0.5577797 ],\n",
              "       [0.53454024],\n",
              "       [0.4774334 ],\n",
              "       [0.47960937],\n",
              "       [0.45131412],\n",
              "       [0.5703052 ],\n",
              "       [0.57023585],\n",
              "       [0.5682608 ],\n",
              "       [0.5064123 ],\n",
              "       [0.5637066 ],\n",
              "       [0.5533664 ],\n",
              "       [0.46095812],\n",
              "       [0.50712293],\n",
              "       [0.5706526 ],\n",
              "       [0.5069176 ],\n",
              "       [0.46533373],\n",
              "       [0.49284896],\n",
              "       [0.447447  ],\n",
              "       [0.44260535],\n",
              "       [0.5865735 ],\n",
              "       [0.5664531 ],\n",
              "       [0.4508944 ],\n",
              "       [0.44010136],\n",
              "       [0.50843513],\n",
              "       [0.45891318],\n",
              "       [0.5434262 ],\n",
              "       [0.4521756 ],\n",
              "       [0.5897578 ],\n",
              "       [0.54371977],\n",
              "       [0.46240795],\n",
              "       [0.52572185],\n",
              "       [0.52775097],\n",
              "       [0.57390296],\n",
              "       [0.5222438 ],\n",
              "       [0.43621713],\n",
              "       [0.49266988],\n",
              "       [0.57648426],\n",
              "       [0.440386  ],\n",
              "       [0.53049034],\n",
              "       [0.5750888 ],\n",
              "       [0.44151852],\n",
              "       [0.5849698 ],\n",
              "       [0.48509848],\n",
              "       [0.53909034],\n",
              "       [0.5875091 ],\n",
              "       [0.44901565],\n",
              "       [0.4768587 ],\n",
              "       [0.58455515],\n",
              "       [0.56962854],\n",
              "       [0.57748866],\n",
              "       [0.58892024],\n",
              "       [0.46738017],\n",
              "       [0.5556815 ],\n",
              "       [0.45102328],\n",
              "       [0.5298836 ],\n",
              "       [0.45618796],\n",
              "       [0.51012546],\n",
              "       [0.56611246],\n",
              "       [0.58029443],\n",
              "       [0.5289211 ],\n",
              "       [0.5714936 ],\n",
              "       [0.5786763 ],\n",
              "       [0.45554766],\n",
              "       [0.47771916],\n",
              "       [0.57021844],\n",
              "       [0.46479288],\n",
              "       [0.53989017],\n",
              "       [0.58790606],\n",
              "       [0.49669278],\n",
              "       [0.570807  ],\n",
              "       [0.55448616],\n",
              "       [0.5330157 ],\n",
              "       [0.5141853 ],\n",
              "       [0.44631463],\n",
              "       [0.44018754],\n",
              "       [0.5504334 ],\n",
              "       [0.47011328],\n",
              "       [0.47921672],\n",
              "       [0.44495678],\n",
              "       [0.49808282],\n",
              "       [0.49317896],\n",
              "       [0.55050844],\n",
              "       [0.56962955],\n",
              "       [0.4551013 ],\n",
              "       [0.49226886],\n",
              "       [0.50745016],\n",
              "       [0.47376886],\n",
              "       [0.4852179 ],\n",
              "       [0.45180938],\n",
              "       [0.5328445 ],\n",
              "       [0.54863805],\n",
              "       [0.50820714],\n",
              "       [0.570554  ],\n",
              "       [0.5720334 ],\n",
              "       [0.49644265],\n",
              "       [0.48503932],\n",
              "       [0.44149494],\n",
              "       [0.47927135],\n",
              "       [0.56806546],\n",
              "       [0.45131916],\n",
              "       [0.5231434 ],\n",
              "       [0.43783134],\n",
              "       [0.46393222],\n",
              "       [0.535166  ],\n",
              "       [0.5134583 ],\n",
              "       [0.5653004 ],\n",
              "       [0.5469415 ],\n",
              "       [0.53547066],\n",
              "       [0.466122  ],\n",
              "       [0.4737218 ],\n",
              "       [0.44242188],\n",
              "       [0.5413746 ],\n",
              "       [0.47164926],\n",
              "       [0.5888469 ],\n",
              "       [0.46117026],\n",
              "       [0.4646602 ],\n",
              "       [0.5508245 ],\n",
              "       [0.5774399 ],\n",
              "       [0.52292997],\n",
              "       [0.4589297 ],\n",
              "       [0.57133424],\n",
              "       [0.5026893 ],\n",
              "       [0.5274163 ],\n",
              "       [0.55851704],\n",
              "       [0.5865418 ],\n",
              "       [0.57292354],\n",
              "       [0.571189  ],\n",
              "       [0.5321395 ],\n",
              "       [0.46951768],\n",
              "       [0.4454809 ],\n",
              "       [0.5849842 ],\n",
              "       [0.5622963 ],\n",
              "       [0.56396896],\n",
              "       [0.46243668],\n",
              "       [0.572152  ],\n",
              "       [0.45947957],\n",
              "       [0.44160444],\n",
              "       [0.5243159 ],\n",
              "       [0.55705595],\n",
              "       [0.53830993],\n",
              "       [0.4582052 ],\n",
              "       [0.44833654],\n",
              "       [0.5548732 ],\n",
              "       [0.5607388 ],\n",
              "       [0.43948132],\n",
              "       [0.4862345 ],\n",
              "       [0.44143015],\n",
              "       [0.44700608],\n",
              "       [0.5393    ],\n",
              "       [0.45076904],\n",
              "       [0.53882635],\n",
              "       [0.48388803],\n",
              "       [0.4654349 ],\n",
              "       [0.45446864],\n",
              "       [0.45254126],\n",
              "       [0.54779017],\n",
              "       [0.539852  ],\n",
              "       [0.5463902 ],\n",
              "       [0.5444541 ],\n",
              "       [0.47647732],\n",
              "       [0.44585288],\n",
              "       [0.49506584],\n",
              "       [0.4953826 ],\n",
              "       [0.49810806],\n",
              "       [0.48935977],\n",
              "       [0.58634543],\n",
              "       [0.45869964],\n",
              "       [0.46327686],\n",
              "       [0.54280084],\n",
              "       [0.5493708 ],\n",
              "       [0.5517616 ],\n",
              "       [0.4420045 ],\n",
              "       [0.5849457 ],\n",
              "       [0.44040716],\n",
              "       [0.44293678],\n",
              "       [0.47292826],\n",
              "       [0.46449983],\n",
              "       [0.57611495],\n",
              "       [0.5866791 ],\n",
              "       [0.44475713],\n",
              "       [0.45423165],\n",
              "       [0.523982  ],\n",
              "       [0.45663238],\n",
              "       [0.5712523 ],\n",
              "       [0.45277104],\n",
              "       [0.45878586],\n",
              "       [0.55283594],\n",
              "       [0.5555486 ],\n",
              "       [0.4985436 ],\n",
              "       [0.4883406 ],\n",
              "       [0.4732554 ],\n",
              "       [0.49763072],\n",
              "       [0.54517156],\n",
              "       [0.58109593],\n",
              "       [0.5928483 ],\n",
              "       [0.4649485 ],\n",
              "       [0.48055035],\n",
              "       [0.47084677],\n",
              "       [0.56902087],\n",
              "       [0.4792926 ],\n",
              "       [0.48490116],\n",
              "       [0.4410161 ],\n",
              "       [0.5058967 ],\n",
              "       [0.4966208 ],\n",
              "       [0.58877623],\n",
              "       [0.5548477 ],\n",
              "       [0.54508495],\n",
              "       [0.5103615 ],\n",
              "       [0.52242726],\n",
              "       [0.5571846 ],\n",
              "       [0.53553545],\n",
              "       [0.4841919 ],\n",
              "       [0.44087434],\n",
              "       [0.5829691 ],\n",
              "       [0.5274704 ],\n",
              "       [0.56119853],\n",
              "       [0.44079   ],\n",
              "       [0.5883228 ],\n",
              "       [0.5458005 ],\n",
              "       [0.56855756],\n",
              "       [0.45773816],\n",
              "       [0.5642259 ],\n",
              "       [0.45292622],\n",
              "       [0.47852176],\n",
              "       [0.5026111 ],\n",
              "       [0.5359279 ],\n",
              "       [0.56645656],\n",
              "       [0.56300795],\n",
              "       [0.4474509 ],\n",
              "       [0.5725418 ],\n",
              "       [0.509697  ],\n",
              "       [0.47668558],\n",
              "       [0.45567665],\n",
              "       [0.4608999 ],\n",
              "       [0.5485154 ],\n",
              "       [0.50175494],\n",
              "       [0.47801557],\n",
              "       [0.5857373 ],\n",
              "       [0.4700586 ],\n",
              "       [0.49630216],\n",
              "       [0.5598136 ],\n",
              "       [0.55085915],\n",
              "       [0.43630356],\n",
              "       [0.57420796],\n",
              "       [0.51346385],\n",
              "       [0.48573264],\n",
              "       [0.45606235],\n",
              "       [0.5802694 ],\n",
              "       [0.5647974 ],\n",
              "       [0.5303153 ],\n",
              "       [0.5091276 ],\n",
              "       [0.4756235 ],\n",
              "       [0.4537674 ],\n",
              "       [0.57523805],\n",
              "       [0.44256523],\n",
              "       [0.44691128],\n",
              "       [0.5588287 ],\n",
              "       [0.5017558 ],\n",
              "       [0.48047996],\n",
              "       [0.508735  ],\n",
              "       [0.5265169 ],\n",
              "       [0.5163802 ],\n",
              "       [0.4433166 ],\n",
              "       [0.49857515],\n",
              "       [0.5529851 ],\n",
              "       [0.49541658],\n",
              "       [0.5860806 ],\n",
              "       [0.5646734 ],\n",
              "       [0.49944058],\n",
              "       [0.5727569 ],\n",
              "       [0.5505975 ],\n",
              "       [0.47601557],\n",
              "       [0.580307  ],\n",
              "       [0.53106374],\n",
              "       [0.5451122 ],\n",
              "       [0.52286935],\n",
              "       [0.56002814],\n",
              "       [0.47275504],\n",
              "       [0.56986547],\n",
              "       [0.49930364],\n",
              "       [0.5568709 ],\n",
              "       [0.5679769 ],\n",
              "       [0.4588462 ],\n",
              "       [0.5881503 ],\n",
              "       [0.56177247],\n",
              "       [0.5554645 ],\n",
              "       [0.54768   ],\n",
              "       [0.584134  ],\n",
              "       [0.51887   ],\n",
              "       [0.542424  ],\n",
              "       [0.5694584 ],\n",
              "       [0.5678125 ],\n",
              "       [0.57363176],\n",
              "       [0.45923638],\n",
              "       [0.48275754],\n",
              "       [0.46373007],\n",
              "       [0.4969405 ],\n",
              "       [0.45605782],\n",
              "       [0.57991   ],\n",
              "       [0.47950447],\n",
              "       [0.5833476 ],\n",
              "       [0.4751769 ],\n",
              "       [0.4796806 ],\n",
              "       [0.5003795 ],\n",
              "       [0.46363926],\n",
              "       [0.45273134],\n",
              "       [0.48271504],\n",
              "       [0.45675367],\n",
              "       [0.4471154 ],\n",
              "       [0.53800875],\n",
              "       [0.5661934 ],\n",
              "       [0.46676803],\n",
              "       [0.5756125 ],\n",
              "       [0.48461977],\n",
              "       [0.4530747 ],\n",
              "       [0.4373933 ],\n",
              "       [0.45644328],\n",
              "       [0.46274763],\n",
              "       [0.5760388 ],\n",
              "       [0.48982635],\n",
              "       [0.4569298 ],\n",
              "       [0.45846745],\n",
              "       [0.44117466],\n",
              "       [0.45950797],\n",
              "       [0.4837134 ],\n",
              "       [0.5688844 ],\n",
              "       [0.4907054 ],\n",
              "       [0.5815505 ],\n",
              "       [0.4848201 ],\n",
              "       [0.4755205 ],\n",
              "       [0.47529724],\n",
              "       [0.45520955],\n",
              "       [0.4965739 ],\n",
              "       [0.5306202 ],\n",
              "       [0.4588904 ],\n",
              "       [0.58586   ],\n",
              "       [0.46111193],\n",
              "       [0.5801484 ],\n",
              "       [0.5223268 ],\n",
              "       [0.46758047],\n",
              "       [0.5505183 ],\n",
              "       [0.557878  ],\n",
              "       [0.5807992 ],\n",
              "       [0.57110333],\n",
              "       [0.5484874 ],\n",
              "       [0.44401228],\n",
              "       [0.43620455],\n",
              "       [0.5508052 ],\n",
              "       [0.5320506 ],\n",
              "       [0.5344568 ],\n",
              "       [0.57256746],\n",
              "       [0.56598806],\n",
              "       [0.5081097 ],\n",
              "       [0.58199966],\n",
              "       [0.44380924],\n",
              "       [0.4498556 ],\n",
              "       [0.5815741 ],\n",
              "       [0.56717473],\n",
              "       [0.49022582],\n",
              "       [0.54571295],\n",
              "       [0.46918514],\n",
              "       [0.51466167],\n",
              "       [0.48756498],\n",
              "       [0.43896666],\n",
              "       [0.57140654],\n",
              "       [0.5615322 ],\n",
              "       [0.5168855 ],\n",
              "       [0.5533537 ],\n",
              "       [0.5211257 ],\n",
              "       [0.558445  ],\n",
              "       [0.56400645],\n",
              "       [0.46269313],\n",
              "       [0.5561987 ],\n",
              "       [0.54678774],\n",
              "       [0.5241823 ],\n",
              "       [0.44213057],\n",
              "       [0.58126277],\n",
              "       [0.52579105],\n",
              "       [0.5591201 ],\n",
              "       [0.4579625 ],\n",
              "       [0.50405854],\n",
              "       [0.4655337 ],\n",
              "       [0.45317584],\n",
              "       [0.5811547 ],\n",
              "       [0.57570755],\n",
              "       [0.56270826],\n",
              "       [0.4538241 ],\n",
              "       [0.55769277],\n",
              "       [0.566754  ],\n",
              "       [0.4776852 ],\n",
              "       [0.44579056],\n",
              "       [0.49796116],\n",
              "       [0.58534765],\n",
              "       [0.5674274 ],\n",
              "       [0.4811813 ],\n",
              "       [0.54883033],\n",
              "       [0.57874495],\n",
              "       [0.45593414],\n",
              "       [0.5853168 ],\n",
              "       [0.5475563 ],\n",
              "       [0.54067296],\n",
              "       [0.52752405],\n",
              "       [0.44288844],\n",
              "       [0.56627434],\n",
              "       [0.5860606 ],\n",
              "       [0.58524036],\n",
              "       [0.43632632],\n",
              "       [0.56668204],\n",
              "       [0.44202608],\n",
              "       [0.45549437],\n",
              "       [0.5435965 ],\n",
              "       [0.46138027],\n",
              "       [0.4952376 ],\n",
              "       [0.4649198 ],\n",
              "       [0.5648218 ],\n",
              "       [0.5635542 ],\n",
              "       [0.44725892],\n",
              "       [0.53047204],\n",
              "       [0.5423388 ],\n",
              "       [0.5620047 ],\n",
              "       [0.4579425 ],\n",
              "       [0.5824468 ],\n",
              "       [0.56179255],\n",
              "       [0.4559677 ],\n",
              "       [0.5483782 ],\n",
              "       [0.5178243 ],\n",
              "       [0.4535147 ],\n",
              "       [0.55438536],\n",
              "       [0.4666364 ],\n",
              "       [0.54859686],\n",
              "       [0.45300657],\n",
              "       [0.46356085],\n",
              "       [0.47360346],\n",
              "       [0.5476692 ],\n",
              "       [0.5048333 ],\n",
              "       [0.44220343],\n",
              "       [0.45947975],\n",
              "       [0.55983764],\n",
              "       [0.57107335],\n",
              "       [0.5779229 ],\n",
              "       [0.47369888],\n",
              "       [0.54648644],\n",
              "       [0.56903636],\n",
              "       [0.46041888],\n",
              "       [0.4676667 ],\n",
              "       [0.4895619 ],\n",
              "       [0.57431674],\n",
              "       [0.5305162 ],\n",
              "       [0.5713128 ],\n",
              "       [0.5010512 ],\n",
              "       [0.5627482 ],\n",
              "       [0.44125223],\n",
              "       [0.45821068],\n",
              "       [0.57194316],\n",
              "       [0.46998143],\n",
              "       [0.5527907 ],\n",
              "       [0.55068946],\n",
              "       [0.5579125 ],\n",
              "       [0.55924255],\n",
              "       [0.53442913],\n",
              "       [0.45437   ],\n",
              "       [0.4548631 ],\n",
              "       [0.5782859 ],\n",
              "       [0.45247075],\n",
              "       [0.5123705 ],\n",
              "       [0.44333893],\n",
              "       [0.47841617],\n",
              "       [0.47761315],\n",
              "       [0.56337583],\n",
              "       [0.46608663],\n",
              "       [0.45086798],\n",
              "       [0.4581528 ],\n",
              "       [0.5529398 ],\n",
              "       [0.479292  ],\n",
              "       [0.51692194],\n",
              "       [0.56316614],\n",
              "       [0.4876024 ],\n",
              "       [0.509767  ],\n",
              "       [0.46050063],\n",
              "       [0.5295584 ],\n",
              "       [0.5214974 ],\n",
              "       [0.5343452 ],\n",
              "       [0.5683923 ],\n",
              "       [0.5725444 ],\n",
              "       [0.58439374],\n",
              "       [0.4851006 ],\n",
              "       [0.49228242],\n",
              "       [0.49677354],\n",
              "       [0.5795212 ],\n",
              "       [0.5688045 ],\n",
              "       [0.46034107],\n",
              "       [0.4787656 ],\n",
              "       [0.48567122],\n",
              "       [0.45187312],\n",
              "       [0.5623839 ],\n",
              "       [0.54540926],\n",
              "       [0.51430535],\n",
              "       [0.56999934],\n",
              "       [0.5549196 ],\n",
              "       [0.5270298 ],\n",
              "       [0.5718128 ],\n",
              "       [0.44028154],\n",
              "       [0.5112162 ],\n",
              "       [0.4616003 ],\n",
              "       [0.5810265 ],\n",
              "       [0.4476994 ],\n",
              "       [0.52405375],\n",
              "       [0.44504035],\n",
              "       [0.5422631 ],\n",
              "       [0.48628604],\n",
              "       [0.5790832 ],\n",
              "       [0.4651446 ],\n",
              "       [0.5416217 ],\n",
              "       [0.5650534 ],\n",
              "       [0.4507373 ],\n",
              "       [0.546502  ],\n",
              "       [0.5546732 ],\n",
              "       [0.5035159 ],\n",
              "       [0.5666133 ],\n",
              "       [0.57151484],\n",
              "       [0.5536455 ],\n",
              "       [0.51970106],\n",
              "       [0.56630385],\n",
              "       [0.5218443 ],\n",
              "       [0.44018385],\n",
              "       [0.46884724],\n",
              "       [0.49923092],\n",
              "       [0.48758885],\n",
              "       [0.53560567],\n",
              "       [0.4917661 ],\n",
              "       [0.582914  ],\n",
              "       [0.5753539 ],\n",
              "       [0.4837767 ],\n",
              "       [0.468468  ],\n",
              "       [0.5762823 ],\n",
              "       [0.4539553 ],\n",
              "       [0.5338488 ],\n",
              "       [0.45532635],\n",
              "       [0.5320399 ],\n",
              "       [0.43950424],\n",
              "       [0.5739679 ],\n",
              "       [0.4485293 ],\n",
              "       [0.5366621 ],\n",
              "       [0.4604019 ],\n",
              "       [0.57013655],\n",
              "       [0.51725245],\n",
              "       [0.4445578 ],\n",
              "       [0.5643342 ],\n",
              "       [0.5689498 ],\n",
              "       [0.46532708],\n",
              "       [0.4849912 ],\n",
              "       [0.4896777 ],\n",
              "       [0.46086076],\n",
              "       [0.5178692 ],\n",
              "       [0.50886583],\n",
              "       [0.47325218],\n",
              "       [0.5843338 ],\n",
              "       [0.49731213],\n",
              "       [0.45760944],\n",
              "       [0.45529255],\n",
              "       [0.5861212 ],\n",
              "       [0.54839087],\n",
              "       [0.5793491 ],\n",
              "       [0.5292186 ],\n",
              "       [0.5075029 ],\n",
              "       [0.46448243],\n",
              "       [0.48869932],\n",
              "       [0.5510693 ],\n",
              "       [0.56715685],\n",
              "       [0.5665701 ],\n",
              "       [0.526387  ],\n",
              "       [0.57072777],\n",
              "       [0.56267136],\n",
              "       [0.566148  ],\n",
              "       [0.4444555 ],\n",
              "       [0.44007236],\n",
              "       [0.47043747],\n",
              "       [0.5036056 ],\n",
              "       [0.4725776 ],\n",
              "       [0.54894286],\n",
              "       [0.587807  ],\n",
              "       [0.5802344 ],\n",
              "       [0.51049477],\n",
              "       [0.561667  ],\n",
              "       [0.44450063],\n",
              "       [0.5731932 ],\n",
              "       [0.44577315],\n",
              "       [0.5030982 ],\n",
              "       [0.53777367],\n",
              "       [0.5557825 ],\n",
              "       [0.51429886],\n",
              "       [0.45365888],\n",
              "       [0.46256462],\n",
              "       [0.45359868],\n",
              "       [0.46646377],\n",
              "       [0.511054  ],\n",
              "       [0.5330512 ],\n",
              "       [0.58474606],\n",
              "       [0.48859307],\n",
              "       [0.53689784],\n",
              "       [0.47743127],\n",
              "       [0.44268945],\n",
              "       [0.4374742 ],\n",
              "       [0.46451226],\n",
              "       [0.5409066 ],\n",
              "       [0.4891613 ],\n",
              "       [0.45906803],\n",
              "       [0.5146386 ],\n",
              "       [0.48094827],\n",
              "       [0.53766555],\n",
              "       [0.5695424 ],\n",
              "       [0.4724052 ],\n",
              "       [0.50844914],\n",
              "       [0.53899455],\n",
              "       [0.45073384],\n",
              "       [0.5446323 ],\n",
              "       [0.5823795 ],\n",
              "       [0.49032164],\n",
              "       [0.46831012],\n",
              "       [0.56261206],\n",
              "       [0.5049789 ],\n",
              "       [0.45310873],\n",
              "       [0.46566   ],\n",
              "       [0.47418672],\n",
              "       [0.49884656],\n",
              "       [0.5664872 ],\n",
              "       [0.5193517 ],\n",
              "       [0.47180068],\n",
              "       [0.51368326],\n",
              "       [0.57152456],\n",
              "       [0.5823798 ],\n",
              "       [0.5293046 ],\n",
              "       [0.5700894 ],\n",
              "       [0.44789255],\n",
              "       [0.56990683],\n",
              "       [0.47978735],\n",
              "       [0.5110385 ],\n",
              "       [0.44693655],\n",
              "       [0.509553  ],\n",
              "       [0.47966972],\n",
              "       [0.5517337 ],\n",
              "       [0.56126386],\n",
              "       [0.48061144],\n",
              "       [0.50829774],\n",
              "       [0.43942726],\n",
              "       [0.58784807],\n",
              "       [0.5399628 ],\n",
              "       [0.4581988 ],\n",
              "       [0.58613026],\n",
              "       [0.45090747],\n",
              "       [0.5103054 ],\n",
              "       [0.44313565],\n",
              "       [0.45783797],\n",
              "       [0.48165703],\n",
              "       [0.54429746],\n",
              "       [0.51553726],\n",
              "       [0.5721374 ],\n",
              "       [0.5735842 ],\n",
              "       [0.5728897 ],\n",
              "       [0.4719425 ],\n",
              "       [0.5495778 ],\n",
              "       [0.45699865],\n",
              "       [0.541846  ],\n",
              "       [0.4412677 ],\n",
              "       [0.49296746],\n",
              "       [0.5821947 ],\n",
              "       [0.45009547],\n",
              "       [0.55936277],\n",
              "       [0.5509915 ],\n",
              "       [0.4760596 ],\n",
              "       [0.5689707 ],\n",
              "       [0.52717084],\n",
              "       [0.5525547 ],\n",
              "       [0.54654527],\n",
              "       [0.47503254],\n",
              "       [0.43715417],\n",
              "       [0.551795  ]], dtype=float32)"
            ]
          },
          "metadata": {},
          "execution_count": 19
        }
      ]
    },
    {
      "cell_type": "markdown",
      "source": [
        "To visualize our model's prediction, lets create a function 'plot_decision_boundary()', this function will:\n",
        "\n",
        "* Take in a trained model, features(X), and labels(Y)\n",
        "* Create a meshgrid of the different X values\n",
        "* Make predictions across the meshgrid\n",
        "* Plot the prediction as well as the lines between zones(where each unique class falls)"
      ],
      "metadata": {
        "id": "LEhSnP62bj8z"
      }
    },
    {
      "cell_type": "markdown",
      "source": [
        "This function is inspired by two resources:\n",
        "1. \"https://cs231n.github.io/neural-networks-case-study/\"\n",
        "\n",
        "2. \"https://github.com/GokuMohandas/MadeWithML\"\n",
        "\n",
        "3. \"https://madewithml.com/courses/foundations/neural-networks/\""
      ],
      "metadata": {
        "id": "sbtoXXren7sG"
      }
    },
    {
      "cell_type": "code",
      "source": [
        "import numpy as np\n",
        "\n",
        "def plot_decision_boundary(model, X, y):\n",
        "  x_min, x_max = X[:, 0].min() - 0.1, X[:, 0].max() + 0.1\n",
        "  y_min, y_max = X[:, 1].min() - 0.1, X[:, 1].max() + 0.1\n",
        "\n",
        "  xx, yy = np.meshgrid(np.linspace(x_min, x_max, 100),\n",
        "                       np.linspace(y_min, y_max, 100))\n",
        "  \n",
        "  \n",
        "  #Create a meshgrid of the different X values\n",
        "  x_in = np.c_[xx.ravel(), yy.ravel()] #numpy.c = stack 2D arrays together\n",
        "\n",
        "  # Make predictions\n",
        "  y_pred = model.predict(x_in)\n",
        "\n",
        "  # Check for multi-class\n",
        "  if len(y_pred[0]) > 1:\n",
        "    print(\"doing multiclass classification\")\n",
        "    # We have to reshape our prediction to get ready for plotting\n",
        "    y_pred = np.argmax(y_pred).reshape(xx.shape)\n",
        "  else:\n",
        "    print(\"doing binary classification\")\n",
        "    y_pred = np.round(y_pred).reshape(xx.shape)\n",
        "\n",
        "  # Plot the decision boundary\n",
        "  plt.contourf(xx, yy, y_pred, cmap = plt.cm.RdYlBu, alpha = 0.7)\n",
        "  plt.scatter(X[:, 0], X[:, 1], c=y, s=40, cmap=plt.cm.RdYlBu)\n",
        "  plt.xlim(xx.min(), xx.max())\n",
        "  plt.ylim(yy.min(), yy.max())\n",
        "\n"
      ],
      "metadata": {
        "id": "hpdJMdKqYoR5"
      },
      "execution_count": null,
      "outputs": []
    },
    {
      "cell_type": "code",
      "source": [
        "#Prediction\n",
        "plot_decision_boundary(model = model_3,\n",
        "                       X=X,\n",
        "                       y=y)"
      ],
      "metadata": {
        "colab": {
          "base_uri": "https://localhost:8080/",
          "height": 282
        },
        "id": "1fU5aLpdlpF8",
        "outputId": "8d3f5bb6-bdf4-43af-fcc4-22d4efbdb173"
      },
      "execution_count": null,
      "outputs": [
        {
          "output_type": "stream",
          "name": "stdout",
          "text": [
            "doing binary classification\n"
          ]
        },
        {
          "output_type": "display_data",
          "data": {
            "image/png": "[encoded data removed]",
            "text/plain": [
              "<Figure size 432x288 with 1 Axes>"
            ]
          },
          "metadata": {
            "needs_background": "light"
          }
        }
      ]
    },
    {
      "cell_type": "markdown",
      "source": [
        "# **Imp Note** :  This is why our model is performing so poorly, \n",
        "\n",
        "# It is tring to draw straight line thru the data, But our data is Circular\n",
        "# So our data cant be seperate by the straight line"
      ],
      "metadata": {
        "id": "tIuvmFKRl_E2"
      }
    },
    {
      "cell_type": "markdown",
      "source": [
        "We are just adding Linear layers and getting straight line. To work on Circular data we have to add Non- Linearity\n",
        "\n",
        "By adding Activation Function - AF adds Non-linearity in the model\n",
        "\n",
        "Add Non-linear AF"
      ],
      "metadata": {
        "id": "DL_Rfkwoey_D"
      }
    },
    {
      "cell_type": "markdown",
      "source": [
        "# **Types of Activation Function**\n",
        "\n",
        "A. Binary step function\n",
        "\n",
        "B. Linear function\n",
        "\n",
        "C. Non linear activation function\n",
        "\n",
        "      * Sigmoid Function\n",
        "      * Tanh\n",
        "      * Softmax\n",
        "      * Softsign\n",
        "      * ReLU\n",
        "      * ELUs \n",
        "    "
      ],
      "metadata": {
        "id": "2KJxHk3BodE9"
      }
    },
    {
      "cell_type": "code",
      "source": [
        "#Set random seed\n",
        "tf.random.set_seed(42)\n",
        "\n",
        "# 1. Create the model\n",
        "model_4 = tf.keras.Sequential([\n",
        "\n",
        "# \"tf.keras.activations.linear\": Linear activation function                             \n",
        "tf.keras.layers.Dense(1, activation = tf.keras.activations.linear) \n",
        "\n",
        "])\n",
        "\n",
        "#2. Compile the model\n",
        "model_4.compile( loss = \"binary_crossentropy\",\n",
        "                optimizer = tf.keras.optimizers.Adam(lr = 0.001),\n",
        "                metrics = [\"accuracy\"])\n",
        "\n",
        "# 3. Fit the model\n",
        "history = model_4.fit(X, y , epochs = 100, verbose = 0)\n"
      ],
      "metadata": {
        "colab": {
          "base_uri": "https://localhost:8080/"
        },
        "id": "nx8sc-j1l54m",
        "outputId": "49c65345-30e4-4aa5-e4d8-ee9be47e6156"
      },
      "execution_count": null,
      "outputs": [
        {
          "output_type": "stream",
          "name": "stderr",
          "text": [
            "/usr/local/lib/python3.7/dist-packages/keras/optimizer_v2/adam.py:105: UserWarning: The `lr` argument is deprecated, use `learning_rate` instead.\n",
            "  super(Adam, self).__init__(name, **kwargs)\n"
          ]
        }
      ]
    },
    {
      "cell_type": "markdown",
      "source": [
        "# Visualize Orignal vs Prediction"
      ],
      "metadata": {
        "id": "V9SEFMsqkQok"
      }
    },
    {
      "cell_type": "code",
      "source": [
        "#Check out our data\n",
        "\n",
        "#Visualization\n",
        "\n",
        "#Orignal Data\n",
        "\n",
        "plt.scatter(X[:, 0], X[:, 1], c=y, cmap=plt.cm.RdYlBu)"
      ],
      "metadata": {
        "colab": {
          "base_uri": "https://localhost:8080/",
          "height": 282
        },
        "id": "QAYAGYgXjcvC",
        "outputId": "ed14a8cf-5d7e-4396-83ff-b5bfdb01fb21"
      },
      "execution_count": null,
      "outputs": [
        {
          "output_type": "execute_result",
          "data": {
            "text/plain": [
              "<matplotlib.collections.PathCollection at 0x7fd3348096d0>"
            ]
          },
          "metadata": {},
          "execution_count": 23
        },
        {
          "output_type": "display_data",
          "data": {
            "image/png": "[encoded data removed]",
            "text/plain": [
              "<Figure size 432x288 with 1 Axes>"
            ]
          },
          "metadata": {
            "needs_background": "light"
          }
        }
      ]
    },
    {
      "cell_type": "code",
      "source": [
        "#Prediction for model_4\n",
        "\n",
        "plot_decision_boundary(model = model_4,\n",
        "                       X=X,\n",
        "                       y=y)"
      ],
      "metadata": {
        "colab": {
          "base_uri": "https://localhost:8080/",
          "height": 282
        },
        "id": "sMbSj0XBkFxE",
        "outputId": "14870291-509e-423b-f66c-7bf9c7a3801d"
      },
      "execution_count": null,
      "outputs": [
        {
          "output_type": "stream",
          "name": "stdout",
          "text": [
            "doing binary classification\n"
          ]
        },
        {
          "output_type": "display_data",
          "data": {
            "image/png": "[encoded data removed]",
            "text/plain": [
              "<Figure size 432x288 with 1 Axes>"
            ]
          },
          "metadata": {
            "needs_background": "light"
          }
        }
      ]
    },
    {
      "cell_type": "markdown",
      "source": [
        "Our model still predicting straight line"
      ],
      "metadata": {
        "id": "JsQhdbbIk5bU"
      }
    },
    {
      "cell_type": "markdown",
      "source": [
        "## **1. First model of Non-linear:**  Build our first neural network with a non-linear activation function"
      ],
      "metadata": {
        "id": "rH-dvIRKJt79"
      }
    },
    {
      "cell_type": "code",
      "source": [
        "#set random seed\n",
        "tf.random.set_seed(42)\n",
        "\n",
        "# 1. Create a model with non-linear activation function\n",
        "model_5 = tf.keras.Sequential([                              \n",
        " tf.keras.layers.Dense(1, activation = tf.keras.activations.relu)\n",
        "])\n",
        "\n",
        "# 2. Compile the model\n",
        "model_5.compile(loss = tf.keras.losses.BinaryCrossentropy(),\n",
        "                optimizer = tf.keras.optimizers.Adam(lr=0.001),\n",
        "                metrics = [\"accuracy\"]\n",
        "\n",
        ")\n",
        "\n",
        "#3. Fit the model \n",
        "history = model_5.fit(X,y, epochs=100, verbose = 0)"
      ],
      "metadata": {
        "colab": {
          "base_uri": "https://localhost:8080/"
        },
        "id": "NHpP4mYCksYK",
        "outputId": "79cbf1dc-072a-44e4-e74f-0e351ca44272"
      },
      "execution_count": null,
      "outputs": [
        {
          "output_type": "stream",
          "name": "stderr",
          "text": [
            "/usr/local/lib/python3.7/dist-packages/keras/optimizer_v2/adam.py:105: UserWarning: The `lr` argument is deprecated, use `learning_rate` instead.\n",
            "  super(Adam, self).__init__(name, **kwargs)\n"
          ]
        }
      ]
    },
    {
      "cell_type": "code",
      "source": [
        "#Prediction for model_5\n",
        "\n",
        "plot_decision_boundary(model = model_5,\n",
        "                       X=X,\n",
        "                       y=y)"
      ],
      "metadata": {
        "colab": {
          "base_uri": "https://localhost:8080/",
          "height": 282
        },
        "id": "eqCI4i4iOce9",
        "outputId": "f0702989-bd0b-4f84-91dd-be7aed6925d8"
      },
      "execution_count": null,
      "outputs": [
        {
          "output_type": "stream",
          "name": "stdout",
          "text": [
            "doing binary classification\n"
          ]
        },
        {
          "output_type": "display_data",
          "data": {
            "image/png": "[encoded data removed]",
            "text/plain": [
              "<Figure size 432x288 with 1 Axes>"
            ]
          },
          "metadata": {
            "needs_background": "light"
          }
        }
      ]
    },
    {
      "cell_type": "markdown",
      "source": [
        "# **2. Non - linear model :** Multilayer Neural Network"
      ],
      "metadata": {
        "id": "euoBCgiOPCtD"
      }
    },
    {
      "cell_type": "markdown",
      "source": [
        "# Creating Neural Network with:\n",
        "\n",
        "Hidden Layer : 2\n",
        "\n",
        "Neuron : 4 neuron per hidden layer\n",
        "\n",
        "Learning rate : 0.001\n",
        "\n",
        "Activation Function : ReLU\n",
        "\n"
      ],
      "metadata": {
        "id": "0dyrsZ-APYn6"
      }
    },
    {
      "cell_type": "code",
      "source": [
        "#Set the random seed\n",
        "tf.random.set_seed(42)\n",
        "\n",
        "#1. Create the model\n",
        "model_6 = tf.keras.Sequential([\n",
        "tf.keras.layers.Dense(4, activation = \"relu\"),\n",
        "tf.keras.layers.Dense(4, activation = \"relu\"),\n",
        "tf.keras.layers.Dense(1)\n",
        "])\n",
        "\n",
        "#2 Compile the model\n",
        "model_6.compile(loss = \"binary_crossentropy\",\n",
        "                optimizer = tf.keras.optimizers.Adam(lr=0.001),\n",
        "                metrics = [\"accuracy\"]\n",
        ")\n",
        "\n",
        "# fit the model\n",
        "history = model_6.fit(X, y, epochs = 250, verbose = 0)"
      ],
      "metadata": {
        "colab": {
          "base_uri": "https://localhost:8080/"
        },
        "id": "k0qlb07NO8J1",
        "outputId": "0624084c-8474-43be-dd99-7e19c3869616"
      },
      "execution_count": null,
      "outputs": [
        {
          "output_type": "stream",
          "name": "stderr",
          "text": [
            "/usr/local/lib/python3.7/dist-packages/keras/optimizer_v2/adam.py:105: UserWarning: The `lr` argument is deprecated, use `learning_rate` instead.\n",
            "  super(Adam, self).__init__(name, **kwargs)\n"
          ]
        }
      ]
    },
    {
      "cell_type": "code",
      "source": [
        "#Evaluate the model\n",
        "model_6.evaluate(X,y)"
      ],
      "metadata": {
        "colab": {
          "base_uri": "https://localhost:8080/"
        },
        "id": "ItLbdz3_RZhN",
        "outputId": "fdca808a-acd7-4469-d3e8-3e74b4170ded"
      },
      "execution_count": null,
      "outputs": [
        {
          "output_type": "stream",
          "name": "stdout",
          "text": [
            "32/32 [==============================] - 0s 1ms/step - loss: 7.7125 - accuracy: 0.5000\n"
          ]
        },
        {
          "output_type": "execute_result",
          "data": {
            "text/plain": [
              "[7.712474346160889, 0.5]"
            ]
          },
          "metadata": {},
          "execution_count": 28
        }
      ]
    },
    {
      "cell_type": "code",
      "source": [
        "#Prediction for model_6\n",
        "\n",
        "plot_decision_boundary(model = model_6,\n",
        "                       X=X,\n",
        "                       y=y)"
      ],
      "metadata": {
        "colab": {
          "base_uri": "https://localhost:8080/",
          "height": 282
        },
        "id": "EQw5ojl_RHXY",
        "outputId": "18cc8004-53eb-40db-ec9f-ec62178c81b8"
      },
      "execution_count": null,
      "outputs": [
        {
          "output_type": "stream",
          "name": "stdout",
          "text": [
            "doing binary classification\n"
          ]
        },
        {
          "output_type": "display_data",
          "data": {
            "image/png": "[encoded data removed]",
            "text/plain": [
              "<Figure size 432x288 with 1 Axes>"
            ]
          },
          "metadata": {
            "needs_background": "light"
          }
        }
      ]
    },
    {
      "cell_type": "markdown",
      "source": [
        "Still low accuracy.\n",
        "\n",
        "So this time will add Activation function in output layer \"softmax\"\n",
        "previously we are adding only in the Hidden layer"
      ],
      "metadata": {
        "id": "hjwvNV6cTZSx"
      }
    },
    {
      "cell_type": "markdown",
      "source": [
        "# **3. Non - linear model :** Multilayer Neural Network (With activation function in output layer)"
      ],
      "metadata": {
        "id": "vC7r0krSUR3K"
      }
    },
    {
      "cell_type": "code",
      "source": [
        "#Set the random seed\n",
        "tf.random.set_seed(42)\n",
        "\n",
        "#1. Create the model\n",
        "model_7 = tf.keras.Sequential([\n",
        "tf.keras.layers.Dense(4, activation = \"relu\"),\n",
        "tf.keras.layers.Dense(4, activation = \"relu\"),\n",
        "tf.keras.layers.Dense(1, activation = \"sigmoid\")\n",
        "])\n",
        "\n",
        "#2 Compile the model\n",
        "model_7.compile(loss = \"binary_crossentropy\",\n",
        "                optimizer = tf.keras.optimizers.Adam(lr=0.001),\n",
        "                metrics = [\"accuracy\"]\n",
        ")\n",
        "\n",
        "# fit the model\n",
        "history = model_7.fit(X, y, epochs = 250, verbose = 0)"
      ],
      "metadata": {
        "colab": {
          "base_uri": "https://localhost:8080/"
        },
        "id": "Ii3wrkIDTr9V",
        "outputId": "00acaa14-ca16-4586-9516-eec385232214"
      },
      "execution_count": null,
      "outputs": [
        {
          "output_type": "stream",
          "name": "stderr",
          "text": [
            "/usr/local/lib/python3.7/dist-packages/keras/optimizer_v2/adam.py:105: UserWarning: The `lr` argument is deprecated, use `learning_rate` instead.\n",
            "  super(Adam, self).__init__(name, **kwargs)\n"
          ]
        }
      ]
    },
    {
      "cell_type": "code",
      "source": [
        "#Evaluate the model\n",
        "model_7.evaluate(X,y)"
      ],
      "metadata": {
        "colab": {
          "base_uri": "https://localhost:8080/"
        },
        "id": "JzRjGpWuZMTa",
        "outputId": "18db321a-8aee-4cc8-98e9-26d9b9b3fd2d"
      },
      "execution_count": null,
      "outputs": [
        {
          "output_type": "stream",
          "name": "stdout",
          "text": [
            "32/32 [==============================] - 0s 1ms/step - loss: 0.0459 - accuracy: 0.9920\n"
          ]
        },
        {
          "output_type": "execute_result",
          "data": {
            "text/plain": [
              "[0.04593363776803017, 0.9919999837875366]"
            ]
          },
          "metadata": {},
          "execution_count": 31
        }
      ]
    },
    {
      "cell_type": "code",
      "source": [
        "#Prediction for model_7\n",
        "\n",
        "plot_decision_boundary(model = model_7,\n",
        "                       X=X,\n",
        "                       y=y)"
      ],
      "metadata": {
        "colab": {
          "base_uri": "https://localhost:8080/",
          "height": 282
        },
        "id": "k5Yo89RjZTBa",
        "outputId": "3d5a73b0-470e-42e9-ffd8-5e62fe086f05"
      },
      "execution_count": null,
      "outputs": [
        {
          "output_type": "stream",
          "name": "stdout",
          "text": [
            "doing binary classification\n"
          ]
        },
        {
          "output_type": "display_data",
          "data": {
            "image/png": "[encoded data removed]",
            "text/plain": [
              "<Figure size 432x288 with 1 Axes>"
            ]
          },
          "metadata": {
            "needs_background": "light"
          }
        }
      ]
    },
    {
      "cell_type": "markdown",
      "source": [
        "Yayyyy !!!\n",
        "\n",
        "So, our model perfectly find the Decision boundary between Red and Blue line."
      ],
      "metadata": {
        "id": "8tzorQGHZmN4"
      }
    },
    {
      "cell_type": "markdown",
      "source": [
        "# **-----Linear and Non-Linear Activation function for understanding only--------**"
      ],
      "metadata": {
        "id": "Iu-5WqFtfpTC"
      }
    },
    {
      "cell_type": "markdown",
      "source": [
        "# Simple numpy Array"
      ],
      "metadata": {
        "id": "w_pDonALlt1S"
      }
    },
    {
      "cell_type": "code",
      "source": [
        "#Create a toy tensor\n",
        "\n",
        "A = tf.cast(tf.range(-10,10), tf.float32)\n",
        "A"
      ],
      "metadata": {
        "colab": {
          "base_uri": "https://localhost:8080/"
        },
        "id": "j4AuyKLSZYRi",
        "outputId": "ff807cac-3efb-4a23-e3d5-eed20116595b"
      },
      "execution_count": null,
      "outputs": [
        {
          "output_type": "execute_result",
          "data": {
            "text/plain": [
              "<tf.Tensor: shape=(20,), dtype=float32, numpy=\n",
              "array([-10.,  -9.,  -8.,  -7.,  -6.,  -5.,  -4.,  -3.,  -2.,  -1.,   0.,\n",
              "         1.,   2.,   3.,   4.,   5.,   6.,   7.,   8.,   9.],\n",
              "      dtype=float32)>"
            ]
          },
          "metadata": {},
          "execution_count": 33
        }
      ]
    },
    {
      "cell_type": "code",
      "source": [
        "#Visualize the toy tensor\n",
        "plt.plot(A)"
      ],
      "metadata": {
        "colab": {
          "base_uri": "https://localhost:8080/",
          "height": 282
        },
        "id": "jg2WcjamgZc8",
        "outputId": "aa2a6432-bad3-4136-9a80-f0bca3d0ddfd"
      },
      "execution_count": null,
      "outputs": [
        {
          "output_type": "execute_result",
          "data": {
            "text/plain": [
              "[<matplotlib.lines.Line2D at 0x7fd333a76d10>]"
            ]
          },
          "metadata": {},
          "execution_count": 34
        },
        {
          "output_type": "display_data",
          "data": {
            "image/png": "[encoded data removed]",
            "text/plain": [
              "<Figure size 432x288 with 1 Axes>"
            ]
          },
          "metadata": {
            "needs_background": "light"
          }
        }
      ]
    },
    {
      "cell_type": "markdown",
      "source": [
        "# Sigmoid"
      ],
      "metadata": {
        "id": "AYyt4RiLhfHy"
      }
    },
    {
      "cell_type": "code",
      "source": [
        "#replicating sigmoid -> 1 / (1 + exp(-x))\n",
        "\n",
        "def sigmoid(x):\n",
        "  return 1/ (1+ tf.exp(-x))\n",
        "\n",
        "sigmoid(A)"
      ],
      "metadata": {
        "colab": {
          "base_uri": "https://localhost:8080/"
        },
        "id": "RrkYQQe0giLz",
        "outputId": "0bec0398-d803-46f3-8cb8-f1c7778fd797"
      },
      "execution_count": null,
      "outputs": [
        {
          "output_type": "execute_result",
          "data": {
            "text/plain": [
              "<tf.Tensor: shape=(20,), dtype=float32, numpy=\n",
              "array([4.5397872e-05, 1.2339458e-04, 3.3535014e-04, 9.1105117e-04,\n",
              "       2.4726233e-03, 6.6928510e-03, 1.7986210e-02, 4.7425874e-02,\n",
              "       1.1920292e-01, 2.6894143e-01, 5.0000000e-01, 7.3105860e-01,\n",
              "       8.8079703e-01, 9.5257413e-01, 9.8201376e-01, 9.9330717e-01,\n",
              "       9.9752742e-01, 9.9908900e-01, 9.9966466e-01, 9.9987662e-01],\n",
              "      dtype=float32)>"
            ]
          },
          "metadata": {},
          "execution_count": 35
        }
      ]
    },
    {
      "cell_type": "code",
      "source": [
        "#Visualize\n",
        "plt.plot(sigmoid(A))"
      ],
      "metadata": {
        "colab": {
          "base_uri": "https://localhost:8080/",
          "height": 282
        },
        "id": "_AB5LMIIg-zc",
        "outputId": "178fdc30-12e2-4d6e-bca3-dd7b02d43c71"
      },
      "execution_count": null,
      "outputs": [
        {
          "output_type": "execute_result",
          "data": {
            "text/plain": [
              "[<matplotlib.lines.Line2D at 0x7fd3339cff10>]"
            ]
          },
          "metadata": {},
          "execution_count": 36
        },
        {
          "output_type": "display_data",
          "data": {
            "image/png": "[encoded data removed]",
            "text/plain": [
              "<Figure size 432x288 with 1 Axes>"
            ]
          },
          "metadata": {
            "needs_background": "light"
          }
        }
      ]
    },
    {
      "cell_type": "markdown",
      "source": [
        "This line previously be straight, Now non straight"
      ],
      "metadata": {
        "id": "70Wm3ZJXhIEx"
      }
    },
    {
      "cell_type": "markdown",
      "source": [
        "# ReLU"
      ],
      "metadata": {
        "id": "XU2HNMyWhjij"
      }
    },
    {
      "cell_type": "code",
      "source": [
        "#Lets recreate reLU\n",
        "\n",
        "def relu(x):\n",
        "  return tf.maximum(0, x)\n",
        "\n",
        "relu(A)"
      ],
      "metadata": {
        "colab": {
          "base_uri": "https://localhost:8080/"
        },
        "id": "q7oxymclg9UT",
        "outputId": "df789af0-d137-4326-dae3-a7a580f31f26"
      },
      "execution_count": null,
      "outputs": [
        {
          "output_type": "execute_result",
          "data": {
            "text/plain": [
              "<tf.Tensor: shape=(20,), dtype=float32, numpy=\n",
              "array([0., 0., 0., 0., 0., 0., 0., 0., 0., 0., 0., 1., 2., 3., 4., 5., 6.,\n",
              "       7., 8., 9.], dtype=float32)>"
            ]
          },
          "metadata": {},
          "execution_count": 37
        }
      ]
    },
    {
      "cell_type": "code",
      "source": [
        "A"
      ],
      "metadata": {
        "colab": {
          "base_uri": "https://localhost:8080/"
        },
        "id": "BmkT8RPqiN1e",
        "outputId": "87bf5b7c-21bb-420f-fd8f-f5528b1ed62c"
      },
      "execution_count": null,
      "outputs": [
        {
          "output_type": "execute_result",
          "data": {
            "text/plain": [
              "<tf.Tensor: shape=(20,), dtype=float32, numpy=\n",
              "array([-10.,  -9.,  -8.,  -7.,  -6.,  -5.,  -4.,  -3.,  -2.,  -1.,   0.,\n",
              "         1.,   2.,   3.,   4.,   5.,   6.,   7.,   8.,   9.],\n",
              "      dtype=float32)>"
            ]
          },
          "metadata": {},
          "execution_count": 38
        }
      ]
    },
    {
      "cell_type": "markdown",
      "source": [
        " Note : It converts -ve to 0"
      ],
      "metadata": {
        "id": "rxDlrYx8iQ_5"
      }
    },
    {
      "cell_type": "code",
      "source": [
        "plt.plot(relu(A))"
      ],
      "metadata": {
        "colab": {
          "base_uri": "https://localhost:8080/",
          "height": 282
        },
        "id": "CBB8CqKsiHSq",
        "outputId": "06917b8a-1321-43bb-ef34-c0181ec5ded2"
      },
      "execution_count": null,
      "outputs": [
        {
          "output_type": "execute_result",
          "data": {
            "text/plain": [
              "[<matplotlib.lines.Line2D at 0x7fd33398dcd0>]"
            ]
          },
          "metadata": {},
          "execution_count": 39
        },
        {
          "output_type": "display_data",
          "data": {
            "image/png": "[encoded data removed]",
            "text/plain": [
              "<Figure size 432x288 with 1 Axes>"
            ]
          },
          "metadata": {
            "needs_background": "light"
          }
        }
      ]
    },
    {
      "cell_type": "markdown",
      "source": [
        "Try Linear Activation function\n",
        "# Linear"
      ],
      "metadata": {
        "id": "TY8vMJeQidao"
      }
    },
    {
      "cell_type": "code",
      "source": [
        "tf.keras.activations.linear(A)"
      ],
      "metadata": {
        "colab": {
          "base_uri": "https://localhost:8080/"
        },
        "id": "W3sUYlzciKU-",
        "outputId": "defeda02-4814-484f-cfe7-b2ea100d2bc2"
      },
      "execution_count": null,
      "outputs": [
        {
          "output_type": "execute_result",
          "data": {
            "text/plain": [
              "<tf.Tensor: shape=(20,), dtype=float32, numpy=\n",
              "array([-10.,  -9.,  -8.,  -7.,  -6.,  -5.,  -4.,  -3.,  -2.,  -1.,   0.,\n",
              "         1.,   2.,   3.,   4.,   5.,   6.,   7.,   8.,   9.],\n",
              "      dtype=float32)>"
            ]
          },
          "metadata": {},
          "execution_count": 40
        }
      ]
    },
    {
      "cell_type": "code",
      "source": [
        "plt.plot(tf.keras.activations.linear(A))"
      ],
      "metadata": {
        "colab": {
          "base_uri": "https://localhost:8080/",
          "height": 282
        },
        "id": "Qswj914JizZg",
        "outputId": "4c36d7f5-8c2c-409e-dc23-1136b3688aae"
      },
      "execution_count": null,
      "outputs": [
        {
          "output_type": "execute_result",
          "data": {
            "text/plain": [
              "[<matplotlib.lines.Line2D at 0x7fd334914550>]"
            ]
          },
          "metadata": {},
          "execution_count": 41
        },
        {
          "output_type": "display_data",
          "data": {
            "image/png": "[encoded data removed]",
            "text/plain": [
              "<Figure size 432x288 with 1 Axes>"
            ]
          },
          "metadata": {
            "needs_background": "light"
          }
        }
      ]
    },
    {
      "cell_type": "code",
      "source": [
        "#Check orignal A and Linear(A)\n",
        "A ==  tf.keras.activations.linear(A)"
      ],
      "metadata": {
        "colab": {
          "base_uri": "https://localhost:8080/"
        },
        "id": "QKzOO9u2jA5J",
        "outputId": "8ea9214a-9bdd-4f44-b13e-22caa90b088c"
      },
      "execution_count": null,
      "outputs": [
        {
          "output_type": "execute_result",
          "data": {
            "text/plain": [
              "<tf.Tensor: shape=(20,), dtype=bool, numpy=\n",
              "array([ True,  True,  True,  True,  True,  True,  True,  True,  True,\n",
              "        True,  True,  True,  True,  True,  True,  True,  True,  True,\n",
              "        True,  True])>"
            ]
          },
          "metadata": {},
          "execution_count": 42
        }
      ]
    },
    {
      "cell_type": "markdown",
      "source": [
        "All the values are true. No change"
      ],
      "metadata": {
        "id": "g1onAXFajLpi"
      }
    },
    {
      "cell_type": "markdown",
      "source": [
        "# **Conclusion** : **The missing piece : Non - Linearity**\n",
        "\n",
        "# In linear -  it is passing the same input data always and result will be same in above even if we are adding more layers\n",
        "\n",
        "# Non - linear - it is passing the diff data every time\n",
        "\n",
        "#**------------------------------------------------------------------------**"
      ],
      "metadata": {
        "id": "8Q-858Cli8XY"
      }
    },
    {
      "cell_type": "markdown",
      "source": [
        "# **Evaluating and Improving our Above Classification with TRAIN and TEST Split**\n",
        "\n",
        "Previously we have been training and testing on the same dataset\n",
        "\n",
        "Now\n",
        "\n",
        "Create Training and test set"
      ],
      "metadata": {
        "id": "DL9h4bQlNiSN"
      }
    },
    {
      "cell_type": "code",
      "source": [
        "len(X)"
      ],
      "metadata": {
        "colab": {
          "base_uri": "https://localhost:8080/"
        },
        "id": "_TbXCtM1j8yT",
        "outputId": "2f0d2d08-0f6f-47fa-bc3e-a610d30ea977"
      },
      "execution_count": null,
      "outputs": [
        {
          "output_type": "execute_result",
          "data": {
            "text/plain": [
              "1000"
            ]
          },
          "metadata": {},
          "execution_count": 43
        }
      ]
    },
    {
      "cell_type": "code",
      "source": [
        "# Split into train and test sets\n",
        "\n",
        "X_train, y_train = X[:800], y[:800]\n",
        "X_test , y_test = X[:800], y[:800]\n",
        "\n",
        "X_train.shape, y_train.shape, X_test.shape, y_test.shape"
      ],
      "metadata": {
        "colab": {
          "base_uri": "https://localhost:8080/"
        },
        "id": "qLpNr1TYO07m",
        "outputId": "6fbdf0a4-b838-49ec-d2a6-f4f94ba74b3a"
      },
      "execution_count": null,
      "outputs": [
        {
          "output_type": "execute_result",
          "data": {
            "text/plain": [
              "((800, 2), (800,), (800, 2), (800,))"
            ]
          },
          "metadata": {},
          "execution_count": 44
        }
      ]
    },
    {
      "cell_type": "code",
      "source": [
        "tf.random.set_seed(42)\n",
        "\n",
        "# 1. Create the model\n",
        "model_8 = tf.keras.Sequential([\n",
        "                               tf.keras.layers.Dense(4, activation=\"relu\"),\n",
        "                               tf.keras.layers.Dense(4, activation = \"relu\"),\n",
        "                               tf.keras.layers.Dense(1, activation=\"sigmoid\")\n",
        "\n",
        "                               \n",
        "])\n",
        "\n",
        "# 2. Compile the model\n",
        "model_8.compile(loss = \"binary_crossentropy\",\n",
        "                optimizer = tf.keras.optimizers.Adam(lr=0.01),\n",
        "                metrics = [\"accuracy\"])\n",
        "\n",
        "# 3. Fit the model\n",
        "history = model_8.fit(X_train, y_train, epochs = 25, verbose = 0)"
      ],
      "metadata": {
        "colab": {
          "base_uri": "https://localhost:8080/"
        },
        "id": "Sux6w92jQRkv",
        "outputId": "b802b708-dbe4-4a2f-eec4-d56495583d96"
      },
      "execution_count": null,
      "outputs": [
        {
          "output_type": "stream",
          "name": "stderr",
          "text": [
            "/usr/local/lib/python3.7/dist-packages/keras/optimizer_v2/adam.py:105: UserWarning: The `lr` argument is deprecated, use `learning_rate` instead.\n",
            "  super(Adam, self).__init__(name, **kwargs)\n"
          ]
        }
      ]
    },
    {
      "cell_type": "code",
      "source": [
        "#Evaluate the model on the test dataset\n",
        "model_8.evaluate(X_test,y_test)"
      ],
      "metadata": {
        "colab": {
          "base_uri": "https://localhost:8080/"
        },
        "id": "adhIX4SfSlAd",
        "outputId": "31a25723-cc9e-401a-d60e-3fa4eea4563a"
      },
      "execution_count": null,
      "outputs": [
        {
          "output_type": "stream",
          "name": "stdout",
          "text": [
            "25/25 [==============================] - 0s 3ms/step - loss: 0.1300 - accuracy: 0.9875\n"
          ]
        },
        {
          "output_type": "execute_result",
          "data": {
            "text/plain": [
              "[0.13001199066638947, 0.987500011920929]"
            ]
          },
          "metadata": {},
          "execution_count": 53
        }
      ]
    },
    {
      "cell_type": "code",
      "source": [
        "#Prediction for model_8\n",
        "\n",
        "plt.figure(figsize = (12,6))\n",
        "plt.subplot(1,2,1)\n",
        "plt.title(\"Train\")\n",
        "plot_decision_boundary(model_8, X=X_train, y=y_train)\n",
        "plt.subplot(1,2,2)\n",
        "plt.title(\"test\")\n",
        "plot_decision_boundary(model_8, X=X_test, y=y_test)"
      ],
      "metadata": {
        "colab": {
          "base_uri": "https://localhost:8080/",
          "height": 425
        },
        "id": "TeGTJI01Yagf",
        "outputId": "7d6796bd-c131-4869-fa85-5133d486c565"
      },
      "execution_count": null,
      "outputs": [
        {
          "output_type": "stream",
          "name": "stdout",
          "text": [
            "doing binary classification\n",
            "doing binary classification\n"
          ]
        },
        {
          "output_type": "display_data",
          "data": {
            "image/png": "[encoded data removed]",
            "text/plain": [
              "<Figure size 864x432 with 2 Axes>"
            ]
          },
          "metadata": {
            "needs_background": "light"
          }
        }
      ]
    },
    {
      "cell_type": "markdown",
      "source": [
        "# **Plot the loss(or training) curves**"
      ],
      "metadata": {
        "id": "pVjuWCt4fsTS"
      }
    },
    {
      "cell_type": "code",
      "source": [
        "history.history"
      ],
      "metadata": {
        "colab": {
          "base_uri": "https://localhost:8080/"
        },
        "id": "ivZ1dQOKfmSw",
        "outputId": "2214e86c-b956-4966-9b41-ed3eeac21886"
      },
      "execution_count": null,
      "outputs": [
        {
          "output_type": "execute_result",
          "data": {
            "text/plain": [
              "{'accuracy': [0.5425000190734863,\n",
              "  0.5525000095367432,\n",
              "  0.5512499809265137,\n",
              "  0.5774999856948853,\n",
              "  0.5849999785423279,\n",
              "  0.5837500095367432,\n",
              "  0.675000011920929,\n",
              "  0.7012500166893005,\n",
              "  0.7487499713897705,\n",
              "  0.7737500071525574,\n",
              "  0.7649999856948853,\n",
              "  0.7837499976158142,\n",
              "  0.7975000143051147,\n",
              "  0.8450000286102295,\n",
              "  0.9125000238418579,\n",
              "  0.9312499761581421,\n",
              "  0.9487500190734863,\n",
              "  0.9524999856948853,\n",
              "  0.956250011920929,\n",
              "  0.9662500023841858,\n",
              "  0.9775000214576721,\n",
              "  0.9737499952316284,\n",
              "  0.9787499904632568,\n",
              "  0.9775000214576721,\n",
              "  0.9762499928474426],\n",
              " 'loss': [0.6846511960029602,\n",
              "  0.6777209639549255,\n",
              "  0.6735945343971252,\n",
              "  0.6681485772132874,\n",
              "  0.6632686853408813,\n",
              "  0.6545671820640564,\n",
              "  0.6412575244903564,\n",
              "  0.6264281272888184,\n",
              "  0.6038310527801514,\n",
              "  0.5714036226272583,\n",
              "  0.540442943572998,\n",
              "  0.5015039443969727,\n",
              "  0.468331903219223,\n",
              "  0.4113016128540039,\n",
              "  0.3625059425830841,\n",
              "  0.32090437412261963,\n",
              "  0.2847079932689667,\n",
              "  0.25971999764442444,\n",
              "  0.23746901750564575,\n",
              "  0.21351958811283112,\n",
              "  0.1938202977180481,\n",
              "  0.17524366080760956,\n",
              "  0.16189303994178772,\n",
              "  0.1549890637397766,\n",
              "  0.14897282421588898]}"
            ]
          },
          "metadata": {},
          "execution_count": 56
        }
      ]
    },
    {
      "cell_type": "code",
      "source": [
        "# Convert the history object into a Dataframe \n",
        "pd.DataFrame(history.history)"
      ],
      "metadata": {
        "colab": {
          "base_uri": "https://localhost:8080/",
          "height": 833
        },
        "id": "N0wgakw_Z9lt",
        "outputId": "b20b6d8c-f776-49b9-b5a1-3f9e27239517"
      },
      "execution_count": null,
      "outputs": [
        {
          "output_type": "execute_result",
          "data": {
            "text/html": [
              "\n",
              "  <div id=\"df-c2598f55-d3a4-47bb-8e96-9007c980bae4\">\n",
              "    <div class=\"colab-df-container\">\n",
              "      <div>\n",
              "<style scoped>\n",
              "    .dataframe tbody tr th:only-of-type {\n",
              "        vertical-align: middle;\n",
              "    }\n",
              "\n",
              "    .dataframe tbody tr th {\n",
              "        vertical-align: top;\n",
              "    }\n",
              "\n",
              "    .dataframe thead th {\n",
              "        text-align: right;\n",
              "    }\n",
              "</style>\n",
              "<table border=\"1\" class=\"dataframe\">\n",
              "  <thead>\n",
              "    <tr style=\"text-align: right;\">\n",
              "      <th></th>\n",
              "      <th>loss</th>\n",
              "      <th>accuracy</th>\n",
              "    </tr>\n",
              "  </thead>\n",
              "  <tbody>\n",
              "    <tr>\n",
              "      <th>0</th>\n",
              "      <td>0.684651</td>\n",
              "      <td>0.54250</td>\n",
              "    </tr>\n",
              "    <tr>\n",
              "      <th>1</th>\n",
              "      <td>0.677721</td>\n",
              "      <td>0.55250</td>\n",
              "    </tr>\n",
              "    <tr>\n",
              "      <th>2</th>\n",
              "      <td>0.673595</td>\n",
              "      <td>0.55125</td>\n",
              "    </tr>\n",
              "    <tr>\n",
              "      <th>3</th>\n",
              "      <td>0.668149</td>\n",
              "      <td>0.57750</td>\n",
              "    </tr>\n",
              "    <tr>\n",
              "      <th>4</th>\n",
              "      <td>0.663269</td>\n",
              "      <td>0.58500</td>\n",
              "    </tr>\n",
              "    <tr>\n",
              "      <th>5</th>\n",
              "      <td>0.654567</td>\n",
              "      <td>0.58375</td>\n",
              "    </tr>\n",
              "    <tr>\n",
              "      <th>6</th>\n",
              "      <td>0.641258</td>\n",
              "      <td>0.67500</td>\n",
              "    </tr>\n",
              "    <tr>\n",
              "      <th>7</th>\n",
              "      <td>0.626428</td>\n",
              "      <td>0.70125</td>\n",
              "    </tr>\n",
              "    <tr>\n",
              "      <th>8</th>\n",
              "      <td>0.603831</td>\n",
              "      <td>0.74875</td>\n",
              "    </tr>\n",
              "    <tr>\n",
              "      <th>9</th>\n",
              "      <td>0.571404</td>\n",
              "      <td>0.77375</td>\n",
              "    </tr>\n",
              "    <tr>\n",
              "      <th>10</th>\n",
              "      <td>0.540443</td>\n",
              "      <td>0.76500</td>\n",
              "    </tr>\n",
              "    <tr>\n",
              "      <th>11</th>\n",
              "      <td>0.501504</td>\n",
              "      <td>0.78375</td>\n",
              "    </tr>\n",
              "    <tr>\n",
              "      <th>12</th>\n",
              "      <td>0.468332</td>\n",
              "      <td>0.79750</td>\n",
              "    </tr>\n",
              "    <tr>\n",
              "      <th>13</th>\n",
              "      <td>0.411302</td>\n",
              "      <td>0.84500</td>\n",
              "    </tr>\n",
              "    <tr>\n",
              "      <th>14</th>\n",
              "      <td>0.362506</td>\n",
              "      <td>0.91250</td>\n",
              "    </tr>\n",
              "    <tr>\n",
              "      <th>15</th>\n",
              "      <td>0.320904</td>\n",
              "      <td>0.93125</td>\n",
              "    </tr>\n",
              "    <tr>\n",
              "      <th>16</th>\n",
              "      <td>0.284708</td>\n",
              "      <td>0.94875</td>\n",
              "    </tr>\n",
              "    <tr>\n",
              "      <th>17</th>\n",
              "      <td>0.259720</td>\n",
              "      <td>0.95250</td>\n",
              "    </tr>\n",
              "    <tr>\n",
              "      <th>18</th>\n",
              "      <td>0.237469</td>\n",
              "      <td>0.95625</td>\n",
              "    </tr>\n",
              "    <tr>\n",
              "      <th>19</th>\n",
              "      <td>0.213520</td>\n",
              "      <td>0.96625</td>\n",
              "    </tr>\n",
              "    <tr>\n",
              "      <th>20</th>\n",
              "      <td>0.193820</td>\n",
              "      <td>0.97750</td>\n",
              "    </tr>\n",
              "    <tr>\n",
              "      <th>21</th>\n",
              "      <td>0.175244</td>\n",
              "      <td>0.97375</td>\n",
              "    </tr>\n",
              "    <tr>\n",
              "      <th>22</th>\n",
              "      <td>0.161893</td>\n",
              "      <td>0.97875</td>\n",
              "    </tr>\n",
              "    <tr>\n",
              "      <th>23</th>\n",
              "      <td>0.154989</td>\n",
              "      <td>0.97750</td>\n",
              "    </tr>\n",
              "    <tr>\n",
              "      <th>24</th>\n",
              "      <td>0.148973</td>\n",
              "      <td>0.97625</td>\n",
              "    </tr>\n",
              "  </tbody>\n",
              "</table>\n",
              "</div>\n",
              "      <button class=\"colab-df-convert\" onclick=\"convertToInteractive('df-c2598f55-d3a4-47bb-8e96-9007c980bae4')\"\n",
              "              title=\"Convert this dataframe to an interactive table.\"\n",
              "              style=\"display:none;\">\n",
              "        \n",
              "  <svg xmlns=\"http://www.w3.org/2000/svg\" height=\"24px\"viewBox=\"0 0 24 24\"\n",
              "       width=\"24px\">\n",
              "    <path d=\"M0 0h24v24H0V0z\" fill=\"none\"/>\n",
              "    <path d=\"M18.56 5.44l.94 2.06.94-2.06 2.06-.94-2.06-.94-.94-2.06-.94 2.06-2.06.94zm-11 1L8.5 8.5l.94-2.06 2.06-.94-2.06-.94L8.5 2.5l-.94 2.06-2.06.94zm10 10l.94 2.06.94-2.06 2.06-.94-2.06-.94-.94-2.06-.94 2.06-2.06.94z\"/><path d=\"M17.41 7.96l-1.37-1.37c-.4-.4-.92-.59-1.43-.59-.52 0-1.04.2-1.43.59L10.3 9.45l-7.72 7.72c-.78.78-.78 2.05 0 2.83L4 21.41c.39.39.9.59 1.41.59.51 0 1.02-.2 1.41-.59l7.78-7.78 2.81-2.81c.8-.78.8-2.07 0-2.86zM5.41 20L4 18.59l7.72-7.72 1.47 1.35L5.41 20z\"/>\n",
              "  </svg>\n",
              "      </button>\n",
              "      \n",
              "  <style>\n",
              "    .colab-df-container {\n",
              "      display:flex;\n",
              "      flex-wrap:wrap;\n",
              "      gap: 12px;\n",
              "    }\n",
              "\n",
              "    .colab-df-convert {\n",
              "      background-color: #E8F0FE;\n",
              "      border: none;\n",
              "      border-radius: 50%;\n",
              "      cursor: pointer;\n",
              "      display: none;\n",
              "      fill: #1967D2;\n",
              "      height: 32px;\n",
              "      padding: 0 0 0 0;\n",
              "      width: 32px;\n",
              "    }\n",
              "\n",
              "    .colab-df-convert:hover {\n",
              "      background-color: #E2EBFA;\n",
              "      box-shadow: 0px 1px 2px rgba(60, 64, 67, 0.3), 0px 1px 3px 1px rgba(60, 64, 67, 0.15);\n",
              "      fill: #174EA6;\n",
              "    }\n",
              "\n",
              "    [theme=dark] .colab-df-convert {\n",
              "      background-color: #3B4455;\n",
              "      fill: #D2E3FC;\n",
              "    }\n",
              "\n",
              "    [theme=dark] .colab-df-convert:hover {\n",
              "      background-color: #434B5C;\n",
              "      box-shadow: 0px 1px 3px 1px rgba(0, 0, 0, 0.15);\n",
              "      filter: drop-shadow(0px 1px 2px rgba(0, 0, 0, 0.3));\n",
              "      fill: #FFFFFF;\n",
              "    }\n",
              "  </style>\n",
              "\n",
              "      <script>\n",
              "        const buttonEl =\n",
              "          document.querySelector('#df-c2598f55-d3a4-47bb-8e96-9007c980bae4 button.colab-df-convert');\n",
              "        buttonEl.style.display =\n",
              "          google.colab.kernel.accessAllowed ? 'block' : 'none';\n",
              "\n",
              "        async function convertToInteractive(key) {\n",
              "          const element = document.querySelector('#df-c2598f55-d3a4-47bb-8e96-9007c980bae4');\n",
              "          const dataTable =\n",
              "            await google.colab.kernel.invokeFunction('convertToInteractive',\n",
              "                                                     [key], {});\n",
              "          if (!dataTable) return;\n",
              "\n",
              "          const docLinkHtml = 'Like what you see? Visit the ' +\n",
              "            '<a target=\"_blank\" href=https://colab.research.google.com/notebooks/data_table.ipynb>data table notebook</a>'\n",
              "            + ' to learn more about interactive tables.';\n",
              "          element.innerHTML = '';\n",
              "          dataTable['output_type'] = 'display_data';\n",
              "          await google.colab.output.renderOutput(dataTable, element);\n",
              "          const docLink = document.createElement('div');\n",
              "          docLink.innerHTML = docLinkHtml;\n",
              "          element.appendChild(docLink);\n",
              "        }\n",
              "      </script>\n",
              "    </div>\n",
              "  </div>\n",
              "  "
            ],
            "text/plain": [
              "        loss  accuracy\n",
              "0   0.684651   0.54250\n",
              "1   0.677721   0.55250\n",
              "2   0.673595   0.55125\n",
              "3   0.668149   0.57750\n",
              "4   0.663269   0.58500\n",
              "5   0.654567   0.58375\n",
              "6   0.641258   0.67500\n",
              "7   0.626428   0.70125\n",
              "8   0.603831   0.74875\n",
              "9   0.571404   0.77375\n",
              "10  0.540443   0.76500\n",
              "11  0.501504   0.78375\n",
              "12  0.468332   0.79750\n",
              "13  0.411302   0.84500\n",
              "14  0.362506   0.91250\n",
              "15  0.320904   0.93125\n",
              "16  0.284708   0.94875\n",
              "17  0.259720   0.95250\n",
              "18  0.237469   0.95625\n",
              "19  0.213520   0.96625\n",
              "20  0.193820   0.97750\n",
              "21  0.175244   0.97375\n",
              "22  0.161893   0.97875\n",
              "23  0.154989   0.97750\n",
              "24  0.148973   0.97625"
            ]
          },
          "metadata": {},
          "execution_count": 59
        }
      ]
    },
    {
      "cell_type": "code",
      "source": [
        "# Plot the loss curves\n",
        "pd.DataFrame(history.history).plot()\n",
        "plt.title(\"Model_8 loss curves\")\n"
      ],
      "metadata": {
        "colab": {
          "base_uri": "https://localhost:8080/",
          "height": 298
        },
        "id": "nRLL6oGGgYZ4",
        "outputId": "b8e76416-e9b9-4621-feb1-cb1fa4b427b4"
      },
      "execution_count": null,
      "outputs": [
        {
          "output_type": "execute_result",
          "data": {
            "text/plain": [
              "Text(0.5, 1.0, 'Model_8 loss curves')"
            ]
          },
          "metadata": {},
          "execution_count": 60
        },
        {
          "output_type": "display_data",
          "data": {
            "image/png": "[encoded data removed]",
            "text/plain": [
              "<Figure size 432x288 with 1 Axes>"
            ]
          },
          "metadata": {
            "needs_background": "light"
          }
        }
      ]
    },
    {
      "cell_type": "markdown",
      "source": [
        "Accuracy metric is going up\n",
        "\n",
        "loss metric is going down"
      ],
      "metadata": {
        "id": "yokf7gA2hvMc"
      }
    },
    {
      "cell_type": "markdown",
      "source": [
        "# Finding the best learning rate\n",
        "\n",
        "To find the ideal learning rate, where the loss decreases the most during training\n",
        "\n",
        "Use the following steps:\n",
        "\n",
        "1. A learning rate **callback** - it is an extra functionality, you can add while training\n",
        "\n",
        "2. Another model\n",
        "\n",
        "3. A modified loss curves plot."
      ],
      "metadata": {
        "id": "isFvoN64pE66"
      }
    },
    {
      "cell_type": "code",
      "source": [
        "# set random seed\n",
        "tf.random.set_seed(42)\n",
        "\n",
        "#create the model\n",
        "\n",
        "model_9 = tf.keras.Sequential([\n",
        "                               tf.keras.layers.Dense(4, activation=\"relu\"),\n",
        "                               tf.keras.layers.Dense(4, activation=\"relu\"),\n",
        "                               tf.keras.layers.Dense(1, activation = \"sigmoid\")\n",
        "\n",
        "])\n",
        "\n",
        "#Compile the model\n",
        "model_9.compile(loss = \"binary_crossentropy\",\n",
        "                optimizer = \"Adam\",\n",
        "                metrics = [\"accuracy\"])\n",
        "\n",
        "# Create a learning rate callback\n",
        "lr_scheduler = tf.keras.callbacks.LearningRateScheduler(lambda epoch : 1e-4 * 10**(epoch/20)) #startinglearning rate with 1e-4 then slowly increasing with *10**(epoch/20)\n",
        "\n",
        "#Fit the model\n",
        "history_9 = model_9.fit(X_train, \n",
        "                        y_train, \n",
        "                        epochs=100,\n",
        "                        callbacks = [lr_scheduler])"
      ],
      "metadata": {
        "colab": {
          "base_uri": "https://localhost:8080/"
        },
        "id": "aVNYxk2bhgQ4",
        "outputId": "dbd7dc81-88ed-4379-dd77-8747de94368c"
      },
      "execution_count": null,
      "outputs": [
        {
          "output_type": "stream",
          "name": "stdout",
          "text": [
            "Epoch 1/100\n",
            "25/25 [==============================] - 1s 3ms/step - loss: 0.6945 - accuracy: 0.4988 - lr: 1.0000e-04\n",
            "Epoch 2/100\n",
            "25/25 [==============================] - 0s 4ms/step - loss: 0.6938 - accuracy: 0.4975 - lr: 1.1220e-04\n",
            "Epoch 3/100\n",
            "25/25 [==============================] - 0s 3ms/step - loss: 0.6930 - accuracy: 0.4963 - lr: 1.2589e-04\n",
            "Epoch 4/100\n",
            "25/25 [==============================] - 0s 3ms/step - loss: 0.6922 - accuracy: 0.4975 - lr: 1.4125e-04\n",
            "Epoch 5/100\n",
            "25/25 [==============================] - 0s 3ms/step - loss: 0.6914 - accuracy: 0.5063 - lr: 1.5849e-04\n",
            "Epoch 6/100\n",
            "25/25 [==============================] - 0s 3ms/step - loss: 0.6906 - accuracy: 0.5013 - lr: 1.7783e-04\n",
            "Epoch 7/100\n",
            "25/25 [==============================] - 0s 3ms/step - loss: 0.6898 - accuracy: 0.4950 - lr: 1.9953e-04\n",
            "Epoch 8/100\n",
            "25/25 [==============================] - 0s 3ms/step - loss: 0.6889 - accuracy: 0.5038 - lr: 2.2387e-04\n",
            "Epoch 9/100\n",
            "25/25 [==============================] - 0s 3ms/step - loss: 0.6880 - accuracy: 0.5013 - lr: 2.5119e-04\n",
            "Epoch 10/100\n",
            "25/25 [==============================] - 0s 3ms/step - loss: 0.6871 - accuracy: 0.5050 - lr: 2.8184e-04\n",
            "Epoch 11/100\n",
            "25/25 [==============================] - 0s 3ms/step - loss: 0.6863 - accuracy: 0.5200 - lr: 3.1623e-04\n",
            "Epoch 12/100\n",
            "25/25 [==============================] - 0s 3ms/step - loss: 0.6856 - accuracy: 0.5163 - lr: 3.5481e-04\n",
            "Epoch 13/100\n",
            "25/25 [==============================] - 0s 3ms/step - loss: 0.6847 - accuracy: 0.5175 - lr: 3.9811e-04\n",
            "Epoch 14/100\n",
            "25/25 [==============================] - 0s 4ms/step - loss: 0.6842 - accuracy: 0.5200 - lr: 4.4668e-04\n",
            "Epoch 15/100\n",
            "25/25 [==============================] - 0s 3ms/step - loss: 0.6835 - accuracy: 0.5213 - lr: 5.0119e-04\n",
            "Epoch 16/100\n",
            "25/25 [==============================] - 0s 3ms/step - loss: 0.6829 - accuracy: 0.5213 - lr: 5.6234e-04\n",
            "Epoch 17/100\n",
            "25/25 [==============================] - 0s 4ms/step - loss: 0.6826 - accuracy: 0.5225 - lr: 6.3096e-04\n",
            "Epoch 18/100\n",
            "25/25 [==============================] - 0s 3ms/step - loss: 0.6819 - accuracy: 0.5300 - lr: 7.0795e-04\n",
            "Epoch 19/100\n",
            "25/25 [==============================] - 0s 4ms/step - loss: 0.6816 - accuracy: 0.5312 - lr: 7.9433e-04\n",
            "Epoch 20/100\n",
            "25/25 [==============================] - 0s 3ms/step - loss: 0.6811 - accuracy: 0.5387 - lr: 8.9125e-04\n",
            "Epoch 21/100\n",
            "25/25 [==============================] - 0s 4ms/step - loss: 0.6806 - accuracy: 0.5400 - lr: 0.0010\n",
            "Epoch 22/100\n",
            "25/25 [==============================] - 0s 3ms/step - loss: 0.6801 - accuracy: 0.5412 - lr: 0.0011\n",
            "Epoch 23/100\n",
            "25/25 [==============================] - 0s 3ms/step - loss: 0.6796 - accuracy: 0.5400 - lr: 0.0013\n",
            "Epoch 24/100\n",
            "25/25 [==============================] - 0s 4ms/step - loss: 0.6790 - accuracy: 0.5425 - lr: 0.0014\n",
            "Epoch 25/100\n",
            "25/25 [==============================] - 0s 3ms/step - loss: 0.6784 - accuracy: 0.5450 - lr: 0.0016\n",
            "Epoch 26/100\n",
            "25/25 [==============================] - 0s 4ms/step - loss: 0.6778 - accuracy: 0.5387 - lr: 0.0018\n",
            "Epoch 27/100\n",
            "25/25 [==============================] - 0s 6ms/step - loss: 0.6770 - accuracy: 0.5425 - lr: 0.0020\n",
            "Epoch 28/100\n",
            "25/25 [==============================] - 0s 4ms/step - loss: 0.6760 - accuracy: 0.5537 - lr: 0.0022\n",
            "Epoch 29/100\n",
            "25/25 [==============================] - 0s 4ms/step - loss: 0.6754 - accuracy: 0.5512 - lr: 0.0025\n",
            "Epoch 30/100\n",
            "25/25 [==============================] - 0s 3ms/step - loss: 0.6739 - accuracy: 0.5575 - lr: 0.0028\n",
            "Epoch 31/100\n",
            "25/25 [==============================] - 0s 3ms/step - loss: 0.6726 - accuracy: 0.5500 - lr: 0.0032\n",
            "Epoch 32/100\n",
            "25/25 [==============================] - 0s 3ms/step - loss: 0.6711 - accuracy: 0.5512 - lr: 0.0035\n",
            "Epoch 33/100\n",
            "25/25 [==============================] - 0s 2ms/step - loss: 0.6688 - accuracy: 0.5562 - lr: 0.0040\n",
            "Epoch 34/100\n",
            "25/25 [==============================] - 0s 2ms/step - loss: 0.6672 - accuracy: 0.5612 - lr: 0.0045\n",
            "Epoch 35/100\n",
            "25/25 [==============================] - 0s 2ms/step - loss: 0.6660 - accuracy: 0.5888 - lr: 0.0050\n",
            "Epoch 36/100\n",
            "25/25 [==============================] - 0s 2ms/step - loss: 0.6625 - accuracy: 0.5625 - lr: 0.0056\n",
            "Epoch 37/100\n",
            "25/25 [==============================] - 0s 2ms/step - loss: 0.6560 - accuracy: 0.5813 - lr: 0.0063\n",
            "Epoch 38/100\n",
            "25/25 [==============================] - 0s 2ms/step - loss: 0.6521 - accuracy: 0.6025 - lr: 0.0071\n",
            "Epoch 39/100\n",
            "25/25 [==============================] - 0s 2ms/step - loss: 0.6415 - accuracy: 0.7088 - lr: 0.0079\n",
            "Epoch 40/100\n",
            "25/25 [==============================] - 0s 2ms/step - loss: 0.6210 - accuracy: 0.7113 - lr: 0.0089\n",
            "Epoch 41/100\n",
            "25/25 [==============================] - 0s 2ms/step - loss: 0.5904 - accuracy: 0.7487 - lr: 0.0100\n",
            "Epoch 42/100\n",
            "25/25 [==============================] - 0s 2ms/step - loss: 0.5688 - accuracy: 0.7312 - lr: 0.0112\n",
            "Epoch 43/100\n",
            "25/25 [==============================] - 0s 2ms/step - loss: 0.5346 - accuracy: 0.7563 - lr: 0.0126\n",
            "Epoch 44/100\n",
            "25/25 [==============================] - 0s 2ms/step - loss: 0.4533 - accuracy: 0.8150 - lr: 0.0141\n",
            "Epoch 45/100\n",
            "25/25 [==============================] - 0s 2ms/step - loss: 0.3455 - accuracy: 0.9112 - lr: 0.0158\n",
            "Epoch 46/100\n",
            "25/25 [==============================] - 0s 2ms/step - loss: 0.2570 - accuracy: 0.9463 - lr: 0.0178\n",
            "Epoch 47/100\n",
            "25/25 [==============================] - 0s 2ms/step - loss: 0.1968 - accuracy: 0.9575 - lr: 0.0200\n",
            "Epoch 48/100\n",
            "25/25 [==============================] - 0s 2ms/step - loss: 0.1336 - accuracy: 0.9700 - lr: 0.0224\n",
            "Epoch 49/100\n",
            "25/25 [==============================] - 0s 2ms/step - loss: 0.1310 - accuracy: 0.9613 - lr: 0.0251\n",
            "Epoch 50/100\n",
            "25/25 [==============================] - 0s 2ms/step - loss: 0.1002 - accuracy: 0.9700 - lr: 0.0282\n",
            "Epoch 51/100\n",
            "25/25 [==============================] - 0s 2ms/step - loss: 0.1166 - accuracy: 0.9638 - lr: 0.0316\n",
            "Epoch 52/100\n",
            "25/25 [==============================] - 0s 2ms/step - loss: 0.1368 - accuracy: 0.9513 - lr: 0.0355\n",
            "Epoch 53/100\n",
            "25/25 [==============================] - 0s 3ms/step - loss: 0.0879 - accuracy: 0.9787 - lr: 0.0398\n",
            "Epoch 54/100\n",
            "25/25 [==============================] - 0s 2ms/step - loss: 0.1187 - accuracy: 0.9588 - lr: 0.0447\n",
            "Epoch 55/100\n",
            "25/25 [==============================] - 0s 2ms/step - loss: 0.0733 - accuracy: 0.9712 - lr: 0.0501\n",
            "Epoch 56/100\n",
            "25/25 [==============================] - 0s 2ms/step - loss: 0.1132 - accuracy: 0.9550 - lr: 0.0562\n",
            "Epoch 57/100\n",
            "25/25 [==============================] - 0s 2ms/step - loss: 0.1057 - accuracy: 0.9613 - lr: 0.0631\n",
            "Epoch 58/100\n",
            "25/25 [==============================] - 0s 2ms/step - loss: 0.0664 - accuracy: 0.9750 - lr: 0.0708\n",
            "Epoch 59/100\n",
            "25/25 [==============================] - 0s 2ms/step - loss: 0.1898 - accuracy: 0.9275 - lr: 0.0794\n",
            "Epoch 60/100\n",
            "25/25 [==============================] - 0s 2ms/step - loss: 0.1895 - accuracy: 0.9312 - lr: 0.0891\n",
            "Epoch 61/100\n",
            "25/25 [==============================] - 0s 2ms/step - loss: 0.4131 - accuracy: 0.8612 - lr: 0.1000\n",
            "Epoch 62/100\n",
            "25/25 [==============================] - 0s 2ms/step - loss: 0.1707 - accuracy: 0.9725 - lr: 0.1122\n",
            "Epoch 63/100\n",
            "25/25 [==============================] - 0s 2ms/step - loss: 0.0569 - accuracy: 0.9937 - lr: 0.1259\n",
            "Epoch 64/100\n",
            "25/25 [==============================] - 0s 2ms/step - loss: 0.1007 - accuracy: 0.9638 - lr: 0.1413\n",
            "Epoch 65/100\n",
            "25/25 [==============================] - 0s 2ms/step - loss: 0.1323 - accuracy: 0.9488 - lr: 0.1585\n",
            "Epoch 66/100\n",
            "25/25 [==============================] - 0s 2ms/step - loss: 0.1819 - accuracy: 0.9375 - lr: 0.1778\n",
            "Epoch 67/100\n",
            "25/25 [==============================] - 0s 2ms/step - loss: 0.6672 - accuracy: 0.7613 - lr: 0.1995\n",
            "Epoch 68/100\n",
            "25/25 [==============================] - 0s 2ms/step - loss: 0.5301 - accuracy: 0.6687 - lr: 0.2239\n",
            "Epoch 69/100\n",
            "25/25 [==============================] - 0s 2ms/step - loss: 0.4140 - accuracy: 0.7925 - lr: 0.2512\n",
            "Epoch 70/100\n",
            "25/25 [==============================] - 0s 2ms/step - loss: 0.4574 - accuracy: 0.7412 - lr: 0.2818\n",
            "Epoch 71/100\n",
            "25/25 [==============================] - 0s 2ms/step - loss: 0.4759 - accuracy: 0.7262 - lr: 0.3162\n",
            "Epoch 72/100\n",
            "25/25 [==============================] - 0s 2ms/step - loss: 0.3748 - accuracy: 0.8112 - lr: 0.3548\n",
            "Epoch 73/100\n",
            "25/25 [==============================] - 0s 2ms/step - loss: 0.4710 - accuracy: 0.8150 - lr: 0.3981\n",
            "Epoch 74/100\n",
            "25/25 [==============================] - 0s 2ms/step - loss: 0.4143 - accuracy: 0.8087 - lr: 0.4467\n",
            "Epoch 75/100\n",
            "25/25 [==============================] - 0s 2ms/step - loss: 0.5961 - accuracy: 0.7412 - lr: 0.5012\n",
            "Epoch 76/100\n",
            "25/25 [==============================] - 0s 2ms/step - loss: 0.4787 - accuracy: 0.7713 - lr: 0.5623\n",
            "Epoch 77/100\n",
            "25/25 [==============================] - 0s 3ms/step - loss: 0.4720 - accuracy: 0.7113 - lr: 0.6310\n",
            "Epoch 78/100\n",
            "25/25 [==============================] - 0s 2ms/step - loss: 0.2565 - accuracy: 0.8675 - lr: 0.7079\n",
            "Epoch 79/100\n",
            "25/25 [==============================] - 0s 2ms/step - loss: 1.1824 - accuracy: 0.6275 - lr: 0.7943\n",
            "Epoch 80/100\n",
            "25/25 [==============================] - 0s 2ms/step - loss: 0.6873 - accuracy: 0.5425 - lr: 0.8913\n",
            "Epoch 81/100\n",
            "25/25 [==============================] - 0s 2ms/step - loss: 0.7068 - accuracy: 0.5575 - lr: 1.0000\n",
            "Epoch 82/100\n",
            "25/25 [==============================] - 0s 2ms/step - loss: 0.6879 - accuracy: 0.5838 - lr: 1.1220\n",
            "Epoch 83/100\n",
            "25/25 [==============================] - 0s 2ms/step - loss: 0.6996 - accuracy: 0.5700 - lr: 1.2589\n",
            "Epoch 84/100\n",
            "25/25 [==============================] - 0s 2ms/step - loss: 0.6471 - accuracy: 0.5863 - lr: 1.4125\n",
            "Epoch 85/100\n",
            "25/25 [==============================] - 0s 2ms/step - loss: 0.7457 - accuracy: 0.5312 - lr: 1.5849\n",
            "Epoch 86/100\n",
            "25/25 [==============================] - 0s 2ms/step - loss: 0.7546 - accuracy: 0.5038 - lr: 1.7783\n",
            "Epoch 87/100\n",
            "25/25 [==============================] - 0s 2ms/step - loss: 0.7681 - accuracy: 0.5063 - lr: 1.9953\n",
            "Epoch 88/100\n",
            "25/25 [==============================] - 0s 2ms/step - loss: 0.7596 - accuracy: 0.4963 - lr: 2.2387\n",
            "Epoch 89/100\n",
            "25/25 [==============================] - 0s 2ms/step - loss: 0.7778 - accuracy: 0.5063 - lr: 2.5119\n",
            "Epoch 90/100\n",
            "25/25 [==============================] - 0s 2ms/step - loss: 0.7741 - accuracy: 0.4787 - lr: 2.8184\n",
            "Epoch 91/100\n",
            "25/25 [==============================] - 0s 2ms/step - loss: 0.7851 - accuracy: 0.5163 - lr: 3.1623\n",
            "Epoch 92/100\n",
            "25/25 [==============================] - 0s 2ms/step - loss: 0.7441 - accuracy: 0.4888 - lr: 3.5481\n",
            "Epoch 93/100\n",
            "25/25 [==============================] - 0s 2ms/step - loss: 0.7354 - accuracy: 0.5163 - lr: 3.9811\n",
            "Epoch 94/100\n",
            "25/25 [==============================] - 0s 2ms/step - loss: 0.7548 - accuracy: 0.4938 - lr: 4.4668\n",
            "Epoch 95/100\n",
            "25/25 [==============================] - 0s 3ms/step - loss: 0.8087 - accuracy: 0.4863 - lr: 5.0119\n",
            "Epoch 96/100\n",
            "25/25 [==============================] - 0s 2ms/step - loss: 0.7714 - accuracy: 0.4638 - lr: 5.6234\n",
            "Epoch 97/100\n",
            "25/25 [==============================] - 0s 2ms/step - loss: 0.8001 - accuracy: 0.5013 - lr: 6.3096\n",
            "Epoch 98/100\n",
            "25/25 [==============================] - 0s 2ms/step - loss: 0.9554 - accuracy: 0.4963 - lr: 7.0795\n",
            "Epoch 99/100\n",
            "25/25 [==============================] - 0s 2ms/step - loss: 0.9268 - accuracy: 0.4913 - lr: 7.9433\n",
            "Epoch 100/100\n",
            "25/25 [==============================] - 0s 2ms/step - loss: 0.8563 - accuracy: 0.4663 - lr: 8.9125\n"
          ]
        }
      ]
    },
    {
      "cell_type": "code",
      "source": [
        "# Checkout the history\n",
        "pd.DataFrame(history_9.history).plot(figsize = (10,7), xlabel = \"epochs\");"
      ],
      "metadata": {
        "colab": {
          "base_uri": "https://localhost:8080/",
          "height": 442
        },
        "id": "3NY4DKyGsmPA",
        "outputId": "ccb62496-efae-450e-834b-c14ec52322be"
      },
      "execution_count": null,
      "outputs": [
        {
          "output_type": "display_data",
          "data": {
            "image/png": "[encoded data removed]",
            "text/plain": [
              "<Figure size 720x504 with 1 Axes>"
            ]
          },
          "metadata": {
            "needs_background": "light"
          }
        }
      ]
    },
    {
      "cell_type": "markdown",
      "source": [
        "learning rate increasing when epochs increasing"
      ],
      "metadata": {
        "id": "cM4aZzd34L9g"
      }
    },
    {
      "cell_type": "code",
      "source": [
        "# Plot the learning rate vs the loss\n",
        "lrs = 1e-4 * (10 ** (tf.range(100)/20))\n",
        "lrs"
      ],
      "metadata": {
        "colab": {
          "base_uri": "https://localhost:8080/"
        },
        "id": "5A7Im47rxgyW",
        "outputId": "a6419c8a-8cdb-4ac0-94dc-312fc849e216"
      },
      "execution_count": null,
      "outputs": [
        {
          "output_type": "execute_result",
          "data": {
            "text/plain": [
              "<tf.Tensor: shape=(100,), dtype=float64, numpy=\n",
              "array([1.00000000e-04, 1.12201845e-04, 1.25892541e-04, 1.41253754e-04,\n",
              "       1.58489319e-04, 1.77827941e-04, 1.99526231e-04, 2.23872114e-04,\n",
              "       2.51188643e-04, 2.81838293e-04, 3.16227766e-04, 3.54813389e-04,\n",
              "       3.98107171e-04, 4.46683592e-04, 5.01187234e-04, 5.62341325e-04,\n",
              "       6.30957344e-04, 7.07945784e-04, 7.94328235e-04, 8.91250938e-04,\n",
              "       1.00000000e-03, 1.12201845e-03, 1.25892541e-03, 1.41253754e-03,\n",
              "       1.58489319e-03, 1.77827941e-03, 1.99526231e-03, 2.23872114e-03,\n",
              "       2.51188643e-03, 2.81838293e-03, 3.16227766e-03, 3.54813389e-03,\n",
              "       3.98107171e-03, 4.46683592e-03, 5.01187234e-03, 5.62341325e-03,\n",
              "       6.30957344e-03, 7.07945784e-03, 7.94328235e-03, 8.91250938e-03,\n",
              "       1.00000000e-02, 1.12201845e-02, 1.25892541e-02, 1.41253754e-02,\n",
              "       1.58489319e-02, 1.77827941e-02, 1.99526231e-02, 2.23872114e-02,\n",
              "       2.51188643e-02, 2.81838293e-02, 3.16227766e-02, 3.54813389e-02,\n",
              "       3.98107171e-02, 4.46683592e-02, 5.01187234e-02, 5.62341325e-02,\n",
              "       6.30957344e-02, 7.07945784e-02, 7.94328235e-02, 8.91250938e-02,\n",
              "       1.00000000e-01, 1.12201845e-01, 1.25892541e-01, 1.41253754e-01,\n",
              "       1.58489319e-01, 1.77827941e-01, 1.99526231e-01, 2.23872114e-01,\n",
              "       2.51188643e-01, 2.81838293e-01, 3.16227766e-01, 3.54813389e-01,\n",
              "       3.98107171e-01, 4.46683592e-01, 5.01187234e-01, 5.62341325e-01,\n",
              "       6.30957344e-01, 7.07945784e-01, 7.94328235e-01, 8.91250938e-01,\n",
              "       1.00000000e+00, 1.12201845e+00, 1.25892541e+00, 1.41253754e+00,\n",
              "       1.58489319e+00, 1.77827941e+00, 1.99526231e+00, 2.23872114e+00,\n",
              "       2.51188643e+00, 2.81838293e+00, 3.16227766e+00, 3.54813389e+00,\n",
              "       3.98107171e+00, 4.46683592e+00, 5.01187234e+00, 5.62341325e+00,\n",
              "       6.30957344e+00, 7.07945784e+00, 7.94328235e+00, 8.91250938e+00])>"
            ]
          },
          "metadata": {},
          "execution_count": 67
        }
      ]
    },
    {
      "cell_type": "code",
      "source": [
        "len(lrs)\n",
        "\n",
        "#100 different values of learning rate"
      ],
      "metadata": {
        "colab": {
          "base_uri": "https://localhost:8080/"
        },
        "id": "nRhQRcSM4zvy",
        "outputId": "885e92f7-c2be-48ef-c35c-534a9274b8fb"
      },
      "execution_count": null,
      "outputs": [
        {
          "output_type": "execute_result",
          "data": {
            "text/plain": [
              "100"
            ]
          },
          "metadata": {},
          "execution_count": 69
        }
      ]
    },
    {
      "cell_type": "code",
      "source": [
        "#Visualize \n",
        "plt.figure(figsize=(10,7))\n",
        "plt.semilogx(lrs, history_9.history[\"loss\"]) #semilogx = we want log on xaxis\n",
        "plt.xlabel(\"Learning Rate\")\n",
        "plt.ylabel(\"loss\")\n",
        "plt.title(\"Learning rate vs Loass\")\n"
      ],
      "metadata": {
        "colab": {
          "base_uri": "https://localhost:8080/",
          "height": 480
        },
        "id": "EOG8vuLe6ouP",
        "outputId": "661ce69c-6347-4386-abf4-9514d3548f8d"
      },
      "execution_count": null,
      "outputs": [
        {
          "output_type": "execute_result",
          "data": {
            "text/plain": [
              "Text(0.5, 1.0, 'Learning rate vs Loass')"
            ]
          },
          "metadata": {},
          "execution_count": 72
        },
        {
          "output_type": "display_data",
          "data": {
            "image/png": "[encoded data removed]",
            "text/plain": [
              "<Figure size 720x504 with 1 Axes>"
            ]
          },
          "metadata": {
            "needs_background": "light"
          }
        }
      ]
    },
    {
      "cell_type": "markdown",
      "source": [
        "The ideal learning rate is where the loss is decreasing ()"
      ],
      "metadata": {
        "id": "j8DVlHo-8zb_"
      }
    },
    {
      "cell_type": "code",
      "source": [
        "#Learning rate we used before (model_8)\n",
        "10**-2"
      ],
      "metadata": {
        "colab": {
          "base_uri": "https://localhost:8080/"
        },
        "id": "G64XTmcUC223",
        "outputId": "600e6e10-d411-47ab-8bc5-26e2752d9132"
      },
      "execution_count": null,
      "outputs": [
        {
          "output_type": "execute_result",
          "data": {
            "text/plain": [
              "0.01"
            ]
          },
          "metadata": {},
          "execution_count": 73
        }
      ]
    },
    {
      "cell_type": "code",
      "source": [
        "# Let's try using a higher *ideal* learning rate with the same model\n",
        "\n",
        "#set random seed\n",
        "tf.random.set_seed(42)\n",
        "\n",
        "#Create the model\n",
        "model_10 = tf.keras.Sequential([\n",
        "                                tf.keras.layers.Dense(4, activation = \"relu\"),\n",
        "                                tf.keras.layers.Dense(4, activation = \"relu\"),\n",
        "                                tf.keras.layers.Dense(1, activation=\"sigmoid\")\n",
        "])\n",
        "\n",
        "# Compile the model with the ideal learning rate\n",
        "model_10.compile(loss = \"binary_crossentropy\",\n",
        "                  optimizer = tf.keras.optimizers.Adam(lr=0.02),\n",
        "                  metrics = [\"accuracy\"])\n",
        "\n",
        "# Fit the model for 20 epochs (5 less than before)\n",
        "history_10 = model_10.fit(X_train, y_train, epochs=20)\n"
      ],
      "metadata": {
        "colab": {
          "base_uri": "https://localhost:8080/"
        },
        "id": "kJrFNxSs7Yf2",
        "outputId": "1970aead-c13f-4f8f-ed4e-72020d972d27"
      },
      "execution_count": null,
      "outputs": [
        {
          "output_type": "stream",
          "name": "stdout",
          "text": [
            "Epoch 1/20\n"
          ]
        },
        {
          "output_type": "stream",
          "name": "stderr",
          "text": [
            "/usr/local/lib/python3.7/dist-packages/keras/optimizer_v2/adam.py:105: UserWarning: The `lr` argument is deprecated, use `learning_rate` instead.\n",
            "  super(Adam, self).__init__(name, **kwargs)\n"
          ]
        },
        {
          "output_type": "stream",
          "name": "stdout",
          "text": [
            "25/25 [==============================] - 1s 2ms/step - loss: 0.6837 - accuracy: 0.5600\n",
            "Epoch 2/20\n",
            "25/25 [==============================] - 0s 2ms/step - loss: 0.6744 - accuracy: 0.5750\n",
            "Epoch 3/20\n",
            "25/25 [==============================] - 0s 2ms/step - loss: 0.6626 - accuracy: 0.5875\n",
            "Epoch 4/20\n",
            "25/25 [==============================] - 0s 3ms/step - loss: 0.6332 - accuracy: 0.6388\n",
            "Epoch 5/20\n",
            "25/25 [==============================] - 0s 4ms/step - loss: 0.5830 - accuracy: 0.7563\n",
            "Epoch 6/20\n",
            "25/25 [==============================] - 0s 3ms/step - loss: 0.4907 - accuracy: 0.8313\n",
            "Epoch 7/20\n",
            "25/25 [==============================] - 0s 3ms/step - loss: 0.4251 - accuracy: 0.8450\n",
            "Epoch 8/20\n",
            "25/25 [==============================] - 0s 3ms/step - loss: 0.3596 - accuracy: 0.8875\n",
            "Epoch 9/20\n",
            "25/25 [==============================] - 0s 3ms/step - loss: 0.3152 - accuracy: 0.9100\n",
            "Epoch 10/20\n",
            "25/25 [==============================] - 0s 3ms/step - loss: 0.2512 - accuracy: 0.9500\n",
            "Epoch 11/20\n",
            "25/25 [==============================] - 0s 3ms/step - loss: 0.2152 - accuracy: 0.9500\n",
            "Epoch 12/20\n",
            "25/25 [==============================] - 0s 3ms/step - loss: 0.1721 - accuracy: 0.9750\n",
            "Epoch 13/20\n",
            "25/25 [==============================] - 0s 3ms/step - loss: 0.1443 - accuracy: 0.9837\n",
            "Epoch 14/20\n",
            "25/25 [==============================] - 0s 2ms/step - loss: 0.1232 - accuracy: 0.9862\n",
            "Epoch 15/20\n",
            "25/25 [==============================] - 0s 3ms/step - loss: 0.1085 - accuracy: 0.9850\n",
            "Epoch 16/20\n",
            "25/25 [==============================] - 0s 3ms/step - loss: 0.0940 - accuracy: 0.9937\n",
            "Epoch 17/20\n",
            "25/25 [==============================] - 0s 4ms/step - loss: 0.0827 - accuracy: 0.9962\n",
            "Epoch 18/20\n",
            "25/25 [==============================] - 0s 3ms/step - loss: 0.0798 - accuracy: 0.9937\n",
            "Epoch 19/20\n",
            "25/25 [==============================] - 0s 2ms/step - loss: 0.0845 - accuracy: 0.9875\n",
            "Epoch 20/20\n",
            "25/25 [==============================] - 0s 4ms/step - loss: 0.0790 - accuracy: 0.9887\n"
          ]
        }
      ]
    },
    {
      "cell_type": "code",
      "source": [
        ""
      ],
      "metadata": {
        "id": "dOxTbEXGDObo"
      },
      "execution_count": null,
      "outputs": []
    }
  ]
}